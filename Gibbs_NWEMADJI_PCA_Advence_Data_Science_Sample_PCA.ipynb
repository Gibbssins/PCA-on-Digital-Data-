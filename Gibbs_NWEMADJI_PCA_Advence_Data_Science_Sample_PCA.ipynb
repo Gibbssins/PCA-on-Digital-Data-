{
  "nbformat": 4,
  "nbformat_minor": 0,
  "metadata": {
    "colab": {
      "name": "Sample_PCA.ipynb",
      "provenance": [],
      "collapsed_sections": []
    },
    "kernelspec": {
      "display_name": "Python 3",
      "name": "python3"
    },
    "language_info": {
      "name": "python"
    }
  },
  "cells": [
    {
      "cell_type": "markdown",
      "metadata": {
        "id": "a6kG_T3n88NQ"
      },
      "source": [
        ""
      ]
    },
    {
      "cell_type": "code",
      "metadata": {
        "id": "_txnQtS34AaQ"
      },
      "source": [
        ""
      ],
      "execution_count": null,
      "outputs": []
    },
    {
      "cell_type": "code",
      "metadata": {
        "id": "GMczKUZ81-9F"
      },
      "source": [
        "import pandas as pd\n",
        "import numpy as np\n",
        "import random as rd\n",
        "from sklearn.decomposition import PCA\n",
        "from sklearn import preprocessing\n",
        "import matplotlib.pyplot as plt\n",
        "from sklearn import metrics\n",
        "from sklearn.metrics import accuracy_score\n",
        "from sklearn.metrics.cluster import adjusted_rand_score"
      ],
      "execution_count": null,
      "outputs": []
    },
    {
      "cell_type": "code",
      "metadata": {
        "colab": {
          "base_uri": "https://localhost:8080/"
        },
        "id": "BzKpRO0cBEpT",
        "outputId": "bf91e317-965e-441c-eec1-9a76bc1c309e"
      },
      "source": [
        ""
      ],
      "execution_count": null,
      "outputs": [
        {
          "output_type": "stream",
          "text": [
            "Drive already mounted at /content/drive; to attempt to forcibly remount, call drive.mount(\"/content/drive\", force_remount=True).\n"
          ],
          "name": "stdout"
        }
      ]
    },
    {
      "cell_type": "code",
      "metadata": {
        "id": "rKAU346rGZql"
      },
      "source": [
        "data1=pd.read_csv('https://raw.githubusercontent.com/Gibbssins/datadigits/main/mfeat-fac.csv',sep=';')\n",
        "data2=pd.read_csv('https://raw.githubusercontent.com/Gibbssins/datadigits/main/mfeat-fou.csv',sep=';')\n",
        "data3=pd.read_csv('https://raw.githubusercontent.com/Gibbssins/datadigits/main/mfeat-kar.csv',sep=';')\n",
        "data4=pd.read_csv('https://raw.githubusercontent.com/Gibbssins/datadigits/main/mfeat-mor.csv',sep=';')\n",
        "data5=pd.read_csv('https://raw.githubusercontent.com/Gibbssins/datadigits/main/mfeat-pix.csv',sep=';')\n",
        "data6=pd.read_csv('https://raw.githubusercontent.com/Gibbssins/datadigits/main/mfeat-zer.csv',sep=';')"
      ],
      "execution_count": null,
      "outputs": []
    },
    {
      "cell_type": "code",
      "metadata": {
        "colab": {
          "base_uri": "https://localhost:8080/"
        },
        "id": "Fr7OFL5D74oB",
        "outputId": "adcf6f09-618b-46af-c9dd-7aa66eebc631"
      },
      "source": [
        "data1.info(),"
      ],
      "execution_count": null,
      "outputs": [
        {
          "output_type": "stream",
          "text": [
            "<class 'pandas.core.frame.DataFrame'>\n",
            "RangeIndex: 2000 entries, 0 to 1999\n",
            "Columns: 216 entries, fac1 to fac216\n",
            "dtypes: int64(216)\n",
            "memory usage: 3.3 MB\n"
          ],
          "name": "stdout"
        }
      ]
    },
    {
      "cell_type": "code",
      "metadata": {
        "colab": {
          "base_uri": "https://localhost:8080/"
        },
        "id": "GPbqhUPcZmnL",
        "outputId": "6ff01dab-2d5d-45e0-aef2-dafe29a338e8"
      },
      "source": [
        "true_label=np.zeros(2000,dtype=int)\n",
        "p=0\n",
        "for i in range(0,2000,200):\n",
        "  true_label[i:i+200]+=p\n",
        "  p+=1\n",
        "print(true_label)"
      ],
      "execution_count": null,
      "outputs": [
        {
          "output_type": "stream",
          "text": [
            "[0 0 0 ... 9 9 9]\n"
          ],
          "name": "stdout"
        }
      ]
    },
    {
      "cell_type": "code",
      "metadata": {
        "colab": {
          "base_uri": "https://localhost:8080/",
          "height": 348
        },
        "id": "6asEpBXuG44s",
        "outputId": "ff70308b-c1aa-465d-c6b2-e0eecfa63283"
      },
      "source": [
        "data6.head(9)#=data1.columns"
      ],
      "execution_count": null,
      "outputs": [
        {
          "output_type": "execute_result",
          "data": {
            "text/html": [
              "<div>\n",
              "<style scoped>\n",
              "    .dataframe tbody tr th:only-of-type {\n",
              "        vertical-align: middle;\n",
              "    }\n",
              "\n",
              "    .dataframe tbody tr th {\n",
              "        vertical-align: top;\n",
              "    }\n",
              "\n",
              "    .dataframe thead th {\n",
              "        text-align: right;\n",
              "    }\n",
              "</style>\n",
              "<table border=\"1\" class=\"dataframe\">\n",
              "  <thead>\n",
              "    <tr style=\"text-align: right;\">\n",
              "      <th></th>\n",
              "      <th>zer1</th>\n",
              "      <th>zer2</th>\n",
              "      <th>zer3</th>\n",
              "      <th>zer4</th>\n",
              "      <th>zer5</th>\n",
              "      <th>zer6</th>\n",
              "      <th>zer7</th>\n",
              "      <th>zer8</th>\n",
              "      <th>zer9</th>\n",
              "      <th>zer10</th>\n",
              "      <th>zer11</th>\n",
              "      <th>zer12</th>\n",
              "      <th>zer13</th>\n",
              "      <th>zer14</th>\n",
              "      <th>zer15</th>\n",
              "      <th>zer16</th>\n",
              "      <th>zer17</th>\n",
              "      <th>zer18</th>\n",
              "      <th>zer19</th>\n",
              "      <th>zer20</th>\n",
              "      <th>zer21</th>\n",
              "      <th>zer22</th>\n",
              "      <th>zer23</th>\n",
              "      <th>zer24</th>\n",
              "      <th>zer25</th>\n",
              "      <th>zer26</th>\n",
              "      <th>zer27</th>\n",
              "      <th>zer28</th>\n",
              "      <th>zer29</th>\n",
              "      <th>zer30</th>\n",
              "      <th>zer31</th>\n",
              "      <th>zer32</th>\n",
              "      <th>zer33</th>\n",
              "      <th>zer34</th>\n",
              "      <th>zer35</th>\n",
              "      <th>zer36</th>\n",
              "      <th>zer37</th>\n",
              "      <th>zer38</th>\n",
              "      <th>zer39</th>\n",
              "      <th>zer40</th>\n",
              "      <th>zer41</th>\n",
              "      <th>zer42</th>\n",
              "      <th>zer43</th>\n",
              "      <th>zer44</th>\n",
              "      <th>zer45</th>\n",
              "      <th>zer46</th>\n",
              "      <th>zer47</th>\n",
              "    </tr>\n",
              "  </thead>\n",
              "  <tbody>\n",
              "    <tr>\n",
              "      <th>0</th>\n",
              "      <td>0.011033</td>\n",
              "      <td>0.831466</td>\n",
              "      <td>15.351804</td>\n",
              "      <td>75.806559</td>\n",
              "      <td>171.554214</td>\n",
              "      <td>490.156556</td>\n",
              "      <td>206.416027</td>\n",
              "      <td>0.122135</td>\n",
              "      <td>2.601646</td>\n",
              "      <td>11.472709</td>\n",
              "      <td>20.043415</td>\n",
              "      <td>110.868301</td>\n",
              "      <td>99.025277</td>\n",
              "      <td>0.100592</td>\n",
              "      <td>4.465825</td>\n",
              "      <td>37.203673</td>\n",
              "      <td>71.682698</td>\n",
              "      <td>303.833008</td>\n",
              "      <td>444.818734</td>\n",
              "      <td>0.324292</td>\n",
              "      <td>2.808212</td>\n",
              "      <td>7.505539</td>\n",
              "      <td>14.199325</td>\n",
              "      <td>109.820532</td>\n",
              "      <td>0.623083</td>\n",
              "      <td>11.902597</td>\n",
              "      <td>13.992883</td>\n",
              "      <td>6.972559</td>\n",
              "      <td>484.784871</td>\n",
              "      <td>0.344745</td>\n",
              "      <td>6.836616</td>\n",
              "      <td>41.172862</td>\n",
              "      <td>67.583218</td>\n",
              "      <td>1.875599</td>\n",
              "      <td>2.280403</td>\n",
              "      <td>170.265764</td>\n",
              "      <td>158.818410</td>\n",
              "      <td>1.713529</td>\n",
              "      <td>33.810340</td>\n",
              "      <td>9.858915</td>\n",
              "      <td>1.399891</td>\n",
              "      <td>148.138058</td>\n",
              "      <td>326.239452</td>\n",
              "      <td>9.711070</td>\n",
              "      <td>20.007248</td>\n",
              "      <td>47.032578</td>\n",
              "      <td>539.208457</td>\n",
              "    </tr>\n",
              "    <tr>\n",
              "      <th>1</th>\n",
              "      <td>0.038271</td>\n",
              "      <td>1.166746</td>\n",
              "      <td>10.526913</td>\n",
              "      <td>42.369276</td>\n",
              "      <td>85.187116</td>\n",
              "      <td>420.360566</td>\n",
              "      <td>253.569574</td>\n",
              "      <td>0.033657</td>\n",
              "      <td>0.390566</td>\n",
              "      <td>11.700830</td>\n",
              "      <td>65.596013</td>\n",
              "      <td>97.691050</td>\n",
              "      <td>87.946417</td>\n",
              "      <td>0.136957</td>\n",
              "      <td>3.005241</td>\n",
              "      <td>22.837229</td>\n",
              "      <td>40.656873</td>\n",
              "      <td>186.411684</td>\n",
              "      <td>419.543064</td>\n",
              "      <td>0.054929</td>\n",
              "      <td>3.576323</td>\n",
              "      <td>38.546889</td>\n",
              "      <td>100.034785</td>\n",
              "      <td>85.145611</td>\n",
              "      <td>0.414205</td>\n",
              "      <td>8.006745</td>\n",
              "      <td>53.191399</td>\n",
              "      <td>91.367313</td>\n",
              "      <td>371.994407</td>\n",
              "      <td>0.531269</td>\n",
              "      <td>14.376516</td>\n",
              "      <td>74.169044</td>\n",
              "      <td>82.063449</td>\n",
              "      <td>1.348741</td>\n",
              "      <td>29.158736</td>\n",
              "      <td>211.200298</td>\n",
              "      <td>34.597257</td>\n",
              "      <td>2.590208</td>\n",
              "      <td>35.400531</td>\n",
              "      <td>70.681899</td>\n",
              "      <td>6.674412</td>\n",
              "      <td>155.135985</td>\n",
              "      <td>377.832675</td>\n",
              "      <td>8.140633</td>\n",
              "      <td>44.536711</td>\n",
              "      <td>46.338954</td>\n",
              "      <td>518.496567</td>\n",
              "    </tr>\n",
              "    <tr>\n",
              "      <th>2</th>\n",
              "      <td>0.042698</td>\n",
              "      <td>1.225007</td>\n",
              "      <td>8.273804</td>\n",
              "      <td>31.744786</td>\n",
              "      <td>54.448177</td>\n",
              "      <td>404.103204</td>\n",
              "      <td>389.980746</td>\n",
              "      <td>0.041733</td>\n",
              "      <td>0.937399</td>\n",
              "      <td>11.629045</td>\n",
              "      <td>33.481501</td>\n",
              "      <td>51.705886</td>\n",
              "      <td>17.760377</td>\n",
              "      <td>0.138112</td>\n",
              "      <td>2.376392</td>\n",
              "      <td>20.892105</td>\n",
              "      <td>68.666675</td>\n",
              "      <td>168.420731</td>\n",
              "      <td>518.229961</td>\n",
              "      <td>0.113119</td>\n",
              "      <td>3.380604</td>\n",
              "      <td>21.119272</td>\n",
              "      <td>52.675563</td>\n",
              "      <td>11.774172</td>\n",
              "      <td>0.328196</td>\n",
              "      <td>7.781216</td>\n",
              "      <td>71.369955</td>\n",
              "      <td>94.039942</td>\n",
              "      <td>402.482819</td>\n",
              "      <td>0.482565</td>\n",
              "      <td>8.101806</td>\n",
              "      <td>40.012973</td>\n",
              "      <td>14.869455</td>\n",
              "      <td>1.336517</td>\n",
              "      <td>35.772897</td>\n",
              "      <td>207.147093</td>\n",
              "      <td>10.924662</td>\n",
              "      <td>1.476285</td>\n",
              "      <td>19.477230</td>\n",
              "      <td>30.093590</td>\n",
              "      <td>7.858211</td>\n",
              "      <td>150.126419</td>\n",
              "      <td>419.565747</td>\n",
              "      <td>4.530921</td>\n",
              "      <td>26.292170</td>\n",
              "      <td>44.574822</td>\n",
              "      <td>549.912691</td>\n",
              "    </tr>\n",
              "    <tr>\n",
              "      <th>3</th>\n",
              "      <td>0.032418</td>\n",
              "      <td>1.638247</td>\n",
              "      <td>19.205283</td>\n",
              "      <td>51.196682</td>\n",
              "      <td>57.181760</td>\n",
              "      <td>429.052011</td>\n",
              "      <td>256.174645</td>\n",
              "      <td>0.073624</td>\n",
              "      <td>1.973268</td>\n",
              "      <td>13.057108</td>\n",
              "      <td>36.079443</td>\n",
              "      <td>49.978731</td>\n",
              "      <td>55.037174</td>\n",
              "      <td>0.190329</td>\n",
              "      <td>5.212415</td>\n",
              "      <td>25.128272</td>\n",
              "      <td>51.937089</td>\n",
              "      <td>178.923865</td>\n",
              "      <td>386.324218</td>\n",
              "      <td>0.245137</td>\n",
              "      <td>3.963072</td>\n",
              "      <td>20.036877</td>\n",
              "      <td>27.570634</td>\n",
              "      <td>80.054547</td>\n",
              "      <td>0.692839</td>\n",
              "      <td>8.226120</td>\n",
              "      <td>61.257439</td>\n",
              "      <td>112.688600</td>\n",
              "      <td>324.849754</td>\n",
              "      <td>0.583625</td>\n",
              "      <td>7.453045</td>\n",
              "      <td>23.667204</td>\n",
              "      <td>65.148691</td>\n",
              "      <td>1.326251</td>\n",
              "      <td>31.813000</td>\n",
              "      <td>239.672998</td>\n",
              "      <td>21.054749</td>\n",
              "      <td>1.349613</td>\n",
              "      <td>14.179518</td>\n",
              "      <td>30.564085</td>\n",
              "      <td>7.097728</td>\n",
              "      <td>173.840759</td>\n",
              "      <td>441.350376</td>\n",
              "      <td>3.706023</td>\n",
              "      <td>13.432311</td>\n",
              "      <td>51.739930</td>\n",
              "      <td>574.887814</td>\n",
              "    </tr>\n",
              "    <tr>\n",
              "      <th>4</th>\n",
              "      <td>0.015866</td>\n",
              "      <td>0.611561</td>\n",
              "      <td>8.627839</td>\n",
              "      <td>37.325052</td>\n",
              "      <td>48.509025</td>\n",
              "      <td>459.909634</td>\n",
              "      <td>238.572767</td>\n",
              "      <td>0.046477</td>\n",
              "      <td>1.117292</td>\n",
              "      <td>10.012169</td>\n",
              "      <td>27.169266</td>\n",
              "      <td>67.849862</td>\n",
              "      <td>71.512437</td>\n",
              "      <td>0.076843</td>\n",
              "      <td>2.660718</td>\n",
              "      <td>24.901428</td>\n",
              "      <td>61.750370</td>\n",
              "      <td>216.615177</td>\n",
              "      <td>417.658858</td>\n",
              "      <td>0.144952</td>\n",
              "      <td>3.055750</td>\n",
              "      <td>12.775389</td>\n",
              "      <td>47.312230</td>\n",
              "      <td>66.377015</td>\n",
              "      <td>0.384703</td>\n",
              "      <td>9.695486</td>\n",
              "      <td>75.963320</td>\n",
              "      <td>86.050213</td>\n",
              "      <td>399.975218</td>\n",
              "      <td>0.452419</td>\n",
              "      <td>4.055963</td>\n",
              "      <td>23.946695</td>\n",
              "      <td>50.192029</td>\n",
              "      <td>1.721486</td>\n",
              "      <td>40.003794</td>\n",
              "      <td>222.227638</td>\n",
              "      <td>83.421886</td>\n",
              "      <td>0.667971</td>\n",
              "      <td>8.705403</td>\n",
              "      <td>30.242473</td>\n",
              "      <td>9.015714</td>\n",
              "      <td>167.021185</td>\n",
              "      <td>332.479997</td>\n",
              "      <td>1.806273</td>\n",
              "      <td>23.689300</td>\n",
              "      <td>50.407770</td>\n",
              "      <td>492.227513</td>\n",
              "    </tr>\n",
              "    <tr>\n",
              "      <th>5</th>\n",
              "      <td>0.229780</td>\n",
              "      <td>5.042077</td>\n",
              "      <td>40.442847</td>\n",
              "      <td>142.718378</td>\n",
              "      <td>120.586600</td>\n",
              "      <td>238.713474</td>\n",
              "      <td>193.363034</td>\n",
              "      <td>0.031558</td>\n",
              "      <td>0.754167</td>\n",
              "      <td>6.689360</td>\n",
              "      <td>20.087926</td>\n",
              "      <td>27.273738</td>\n",
              "      <td>58.455365</td>\n",
              "      <td>0.652346</td>\n",
              "      <td>13.046225</td>\n",
              "      <td>93.324245</td>\n",
              "      <td>226.663846</td>\n",
              "      <td>58.288896</td>\n",
              "      <td>194.704583</td>\n",
              "      <td>0.087589</td>\n",
              "      <td>1.842764</td>\n",
              "      <td>12.407290</td>\n",
              "      <td>12.568673</td>\n",
              "      <td>41.942019</td>\n",
              "      <td>1.961769</td>\n",
              "      <td>35.853147</td>\n",
              "      <td>197.378923</td>\n",
              "      <td>192.069988</td>\n",
              "      <td>129.513851</td>\n",
              "      <td>0.252242</td>\n",
              "      <td>4.592906</td>\n",
              "      <td>18.298133</td>\n",
              "      <td>90.172508</td>\n",
              "      <td>6.382364</td>\n",
              "      <td>96.349377</td>\n",
              "      <td>309.835456</td>\n",
              "      <td>120.751623</td>\n",
              "      <td>0.808418</td>\n",
              "      <td>10.570782</td>\n",
              "      <td>97.581195</td>\n",
              "      <td>21.335305</td>\n",
              "      <td>222.957245</td>\n",
              "      <td>451.432607</td>\n",
              "      <td>2.592809</td>\n",
              "      <td>64.448681</td>\n",
              "      <td>67.431997</td>\n",
              "      <td>555.304332</td>\n",
              "    </tr>\n",
              "    <tr>\n",
              "      <th>6</th>\n",
              "      <td>0.068383</td>\n",
              "      <td>0.929085</td>\n",
              "      <td>29.995907</td>\n",
              "      <td>120.285912</td>\n",
              "      <td>149.906770</td>\n",
              "      <td>556.821636</td>\n",
              "      <td>66.873006</td>\n",
              "      <td>0.049044</td>\n",
              "      <td>2.232918</td>\n",
              "      <td>14.963066</td>\n",
              "      <td>3.818094</td>\n",
              "      <td>15.193588</td>\n",
              "      <td>82.261748</td>\n",
              "      <td>0.113185</td>\n",
              "      <td>8.696983</td>\n",
              "      <td>64.394320</td>\n",
              "      <td>60.335791</td>\n",
              "      <td>357.537147</td>\n",
              "      <td>322.556252</td>\n",
              "      <td>0.292321</td>\n",
              "      <td>4.469912</td>\n",
              "      <td>5.927652</td>\n",
              "      <td>42.142809</td>\n",
              "      <td>29.305051</td>\n",
              "      <td>1.208892</td>\n",
              "      <td>21.796423</td>\n",
              "      <td>17.188437</td>\n",
              "      <td>27.757010</td>\n",
              "      <td>448.400796</td>\n",
              "      <td>0.651712</td>\n",
              "      <td>3.484489</td>\n",
              "      <td>47.040682</td>\n",
              "      <td>5.603168</td>\n",
              "      <td>3.563913</td>\n",
              "      <td>7.819361</td>\n",
              "      <td>194.891213</td>\n",
              "      <td>197.237818</td>\n",
              "      <td>0.787812</td>\n",
              "      <td>27.689348</td>\n",
              "      <td>6.637128</td>\n",
              "      <td>2.110440</td>\n",
              "      <td>172.713737</td>\n",
              "      <td>273.186742</td>\n",
              "      <td>7.144262</td>\n",
              "      <td>10.642549</td>\n",
              "      <td>55.283107</td>\n",
              "      <td>511.194536</td>\n",
              "    </tr>\n",
              "    <tr>\n",
              "      <th>7</th>\n",
              "      <td>0.029408</td>\n",
              "      <td>0.608213</td>\n",
              "      <td>3.954453</td>\n",
              "      <td>15.007775</td>\n",
              "      <td>107.223791</td>\n",
              "      <td>471.335713</td>\n",
              "      <td>247.380454</td>\n",
              "      <td>0.044699</td>\n",
              "      <td>1.318604</td>\n",
              "      <td>5.490533</td>\n",
              "      <td>22.614370</td>\n",
              "      <td>17.757290</td>\n",
              "      <td>21.512162</td>\n",
              "      <td>0.070617</td>\n",
              "      <td>0.914350</td>\n",
              "      <td>2.702571</td>\n",
              "      <td>27.185892</td>\n",
              "      <td>240.297649</td>\n",
              "      <td>508.826905</td>\n",
              "      <td>0.156483</td>\n",
              "      <td>1.736355</td>\n",
              "      <td>19.955005</td>\n",
              "      <td>30.846547</td>\n",
              "      <td>24.550581</td>\n",
              "      <td>0.106852</td>\n",
              "      <td>1.762550</td>\n",
              "      <td>49.846426</td>\n",
              "      <td>70.581004</td>\n",
              "      <td>532.067846</td>\n",
              "      <td>0.273774</td>\n",
              "      <td>8.938699</td>\n",
              "      <td>43.906064</td>\n",
              "      <td>12.386746</td>\n",
              "      <td>0.431665</td>\n",
              "      <td>29.776679</td>\n",
              "      <td>227.071648</td>\n",
              "      <td>186.391625</td>\n",
              "      <td>1.775261</td>\n",
              "      <td>26.604415</td>\n",
              "      <td>11.409401</td>\n",
              "      <td>7.062444</td>\n",
              "      <td>175.498979</td>\n",
              "      <td>301.078023</td>\n",
              "      <td>6.839167</td>\n",
              "      <td>15.515805</td>\n",
              "      <td>53.551123</td>\n",
              "      <td>512.603587</td>\n",
              "    </tr>\n",
              "    <tr>\n",
              "      <th>8</th>\n",
              "      <td>0.049459</td>\n",
              "      <td>2.799800</td>\n",
              "      <td>39.063424</td>\n",
              "      <td>120.850583</td>\n",
              "      <td>191.239560</td>\n",
              "      <td>563.061573</td>\n",
              "      <td>70.507455</td>\n",
              "      <td>0.055096</td>\n",
              "      <td>0.539381</td>\n",
              "      <td>4.846986</td>\n",
              "      <td>31.669641</td>\n",
              "      <td>50.314742</td>\n",
              "      <td>9.388965</td>\n",
              "      <td>0.348530</td>\n",
              "      <td>11.728150</td>\n",
              "      <td>66.930982</td>\n",
              "      <td>79.497056</td>\n",
              "      <td>408.665176</td>\n",
              "      <td>333.399644</td>\n",
              "      <td>0.066007</td>\n",
              "      <td>1.939936</td>\n",
              "      <td>21.325551</td>\n",
              "      <td>48.169415</td>\n",
              "      <td>24.314907</td>\n",
              "      <td>1.672488</td>\n",
              "      <td>23.234778</td>\n",
              "      <td>23.724742</td>\n",
              "      <td>59.644695</td>\n",
              "      <td>494.558917</td>\n",
              "      <td>0.335907</td>\n",
              "      <td>8.661564</td>\n",
              "      <td>31.346824</td>\n",
              "      <td>16.986693</td>\n",
              "      <td>3.871127</td>\n",
              "      <td>12.672581</td>\n",
              "      <td>179.931634</td>\n",
              "      <td>260.583171</td>\n",
              "      <td>1.645802</td>\n",
              "      <td>13.372635</td>\n",
              "      <td>11.609861</td>\n",
              "      <td>3.544209</td>\n",
              "      <td>176.333275</td>\n",
              "      <td>234.956563</td>\n",
              "      <td>2.851916</td>\n",
              "      <td>15.304698</td>\n",
              "      <td>58.374692</td>\n",
              "      <td>509.291575</td>\n",
              "    </tr>\n",
              "  </tbody>\n",
              "</table>\n",
              "</div>"
            ],
            "text/plain": [
              "       zer1      zer2       zer3  ...      zer45      zer46       zer47\n",
              "0  0.011033  0.831466  15.351804  ...  20.007248  47.032578  539.208457\n",
              "1  0.038271  1.166746  10.526913  ...  44.536711  46.338954  518.496567\n",
              "2  0.042698  1.225007   8.273804  ...  26.292170  44.574822  549.912691\n",
              "3  0.032418  1.638247  19.205283  ...  13.432311  51.739930  574.887814\n",
              "4  0.015866  0.611561   8.627839  ...  23.689300  50.407770  492.227513\n",
              "5  0.229780  5.042077  40.442847  ...  64.448681  67.431997  555.304332\n",
              "6  0.068383  0.929085  29.995907  ...  10.642549  55.283107  511.194536\n",
              "7  0.029408  0.608213   3.954453  ...  15.515805  53.551123  512.603587\n",
              "8  0.049459  2.799800  39.063424  ...  15.304698  58.374692  509.291575\n",
              "\n",
              "[9 rows x 47 columns]"
            ]
          },
          "metadata": {
            "tags": []
          },
          "execution_count": 5
        }
      ]
    },
    {
      "cell_type": "code",
      "metadata": {
        "colab": {
          "base_uri": "https://localhost:8080/"
        },
        "id": "QeaMLAuXEUUu",
        "outputId": "2d0353cd-ffdc-403a-b5f7-20ccc4ad82ee"
      },
      "source": [
        "print(data1.shape,data2.shape,data3.shape,data4.shape,data5.shape,data6.shape)"
      ],
      "execution_count": null,
      "outputs": [
        {
          "output_type": "stream",
          "text": [
            "(2000, 216) (2000, 76) (2000, 64) (2000, 6) (2000, 240) (2000, 47)\n"
          ],
          "name": "stdout"
        }
      ]
    },
    {
      "cell_type": "code",
      "metadata": {
        "id": "5LsJ3Ev-O43d"
      },
      "source": [
        "frames = [data1, data2,data3,data4,data5,data6]\n",
        "  \n",
        "result = pd.concat(frames,axis=1,join='inner')"
      ],
      "execution_count": null,
      "outputs": []
    },
    {
      "cell_type": "code",
      "metadata": {
        "colab": {
          "base_uri": "https://localhost:8080/",
          "height": 253
        },
        "id": "r3DauN-xQTD1",
        "outputId": "ee2a472d-3cb1-4294-a2b7-57d8e7c69de3"
      },
      "source": [
        "result.head()"
      ],
      "execution_count": null,
      "outputs": [
        {
          "output_type": "execute_result",
          "data": {
            "text/html": [
              "<div>\n",
              "<style scoped>\n",
              "    .dataframe tbody tr th:only-of-type {\n",
              "        vertical-align: middle;\n",
              "    }\n",
              "\n",
              "    .dataframe tbody tr th {\n",
              "        vertical-align: top;\n",
              "    }\n",
              "\n",
              "    .dataframe thead th {\n",
              "        text-align: right;\n",
              "    }\n",
              "</style>\n",
              "<table border=\"1\" class=\"dataframe\">\n",
              "  <thead>\n",
              "    <tr style=\"text-align: right;\">\n",
              "      <th></th>\n",
              "      <th>fac1</th>\n",
              "      <th>fac2</th>\n",
              "      <th>fac3</th>\n",
              "      <th>fac4</th>\n",
              "      <th>fac5</th>\n",
              "      <th>fac6</th>\n",
              "      <th>fac7</th>\n",
              "      <th>fac8</th>\n",
              "      <th>fac9</th>\n",
              "      <th>fac10</th>\n",
              "      <th>fac11</th>\n",
              "      <th>fac12</th>\n",
              "      <th>fac13</th>\n",
              "      <th>fac14</th>\n",
              "      <th>fac15</th>\n",
              "      <th>fac16</th>\n",
              "      <th>fac17</th>\n",
              "      <th>fac18</th>\n",
              "      <th>fac19</th>\n",
              "      <th>fac20</th>\n",
              "      <th>fac21</th>\n",
              "      <th>fac22</th>\n",
              "      <th>fac23</th>\n",
              "      <th>fac24</th>\n",
              "      <th>fac25</th>\n",
              "      <th>fac26</th>\n",
              "      <th>fac27</th>\n",
              "      <th>fac28</th>\n",
              "      <th>fac29</th>\n",
              "      <th>fac30</th>\n",
              "      <th>fac31</th>\n",
              "      <th>fac32</th>\n",
              "      <th>fac33</th>\n",
              "      <th>fac34</th>\n",
              "      <th>fac35</th>\n",
              "      <th>fac36</th>\n",
              "      <th>fac37</th>\n",
              "      <th>fac38</th>\n",
              "      <th>fac39</th>\n",
              "      <th>fac40</th>\n",
              "      <th>...</th>\n",
              "      <th>zer8</th>\n",
              "      <th>zer9</th>\n",
              "      <th>zer10</th>\n",
              "      <th>zer11</th>\n",
              "      <th>zer12</th>\n",
              "      <th>zer13</th>\n",
              "      <th>zer14</th>\n",
              "      <th>zer15</th>\n",
              "      <th>zer16</th>\n",
              "      <th>zer17</th>\n",
              "      <th>zer18</th>\n",
              "      <th>zer19</th>\n",
              "      <th>zer20</th>\n",
              "      <th>zer21</th>\n",
              "      <th>zer22</th>\n",
              "      <th>zer23</th>\n",
              "      <th>zer24</th>\n",
              "      <th>zer25</th>\n",
              "      <th>zer26</th>\n",
              "      <th>zer27</th>\n",
              "      <th>zer28</th>\n",
              "      <th>zer29</th>\n",
              "      <th>zer30</th>\n",
              "      <th>zer31</th>\n",
              "      <th>zer32</th>\n",
              "      <th>zer33</th>\n",
              "      <th>zer34</th>\n",
              "      <th>zer35</th>\n",
              "      <th>zer36</th>\n",
              "      <th>zer37</th>\n",
              "      <th>zer38</th>\n",
              "      <th>zer39</th>\n",
              "      <th>zer40</th>\n",
              "      <th>zer41</th>\n",
              "      <th>zer42</th>\n",
              "      <th>zer43</th>\n",
              "      <th>zer44</th>\n",
              "      <th>zer45</th>\n",
              "      <th>zer46</th>\n",
              "      <th>zer47</th>\n",
              "    </tr>\n",
              "  </thead>\n",
              "  <tbody>\n",
              "    <tr>\n",
              "      <th>0</th>\n",
              "      <td>98</td>\n",
              "      <td>236</td>\n",
              "      <td>531</td>\n",
              "      <td>673</td>\n",
              "      <td>607</td>\n",
              "      <td>647</td>\n",
              "      <td>2</td>\n",
              "      <td>9</td>\n",
              "      <td>3</td>\n",
              "      <td>6</td>\n",
              "      <td>8</td>\n",
              "      <td>5</td>\n",
              "      <td>225</td>\n",
              "      <td>517</td>\n",
              "      <td>652</td>\n",
              "      <td>624</td>\n",
              "      <td>628</td>\n",
              "      <td>994</td>\n",
              "      <td>7</td>\n",
              "      <td>22</td>\n",
              "      <td>28</td>\n",
              "      <td>13</td>\n",
              "      <td>10</td>\n",
              "      <td>19</td>\n",
              "      <td>305</td>\n",
              "      <td>481</td>\n",
              "      <td>667</td>\n",
              "      <td>663</td>\n",
              "      <td>1009</td>\n",
              "      <td>727</td>\n",
              "      <td>38</td>\n",
              "      <td>28</td>\n",
              "      <td>18</td>\n",
              "      <td>11</td>\n",
              "      <td>20</td>\n",
              "      <td>10</td>\n",
              "      <td>287</td>\n",
              "      <td>567</td>\n",
              "      <td>651</td>\n",
              "      <td>742</td>\n",
              "      <td>...</td>\n",
              "      <td>0.122135</td>\n",
              "      <td>2.601646</td>\n",
              "      <td>11.472709</td>\n",
              "      <td>20.043415</td>\n",
              "      <td>110.868301</td>\n",
              "      <td>99.025277</td>\n",
              "      <td>0.100592</td>\n",
              "      <td>4.465825</td>\n",
              "      <td>37.203673</td>\n",
              "      <td>71.682698</td>\n",
              "      <td>303.833008</td>\n",
              "      <td>444.818734</td>\n",
              "      <td>0.324292</td>\n",
              "      <td>2.808212</td>\n",
              "      <td>7.505539</td>\n",
              "      <td>14.199325</td>\n",
              "      <td>109.820532</td>\n",
              "      <td>0.623083</td>\n",
              "      <td>11.902597</td>\n",
              "      <td>13.992883</td>\n",
              "      <td>6.972559</td>\n",
              "      <td>484.784871</td>\n",
              "      <td>0.344745</td>\n",
              "      <td>6.836616</td>\n",
              "      <td>41.172862</td>\n",
              "      <td>67.583218</td>\n",
              "      <td>1.875599</td>\n",
              "      <td>2.280403</td>\n",
              "      <td>170.265764</td>\n",
              "      <td>158.818410</td>\n",
              "      <td>1.713529</td>\n",
              "      <td>33.810340</td>\n",
              "      <td>9.858915</td>\n",
              "      <td>1.399891</td>\n",
              "      <td>148.138058</td>\n",
              "      <td>326.239452</td>\n",
              "      <td>9.711070</td>\n",
              "      <td>20.007248</td>\n",
              "      <td>47.032578</td>\n",
              "      <td>539.208457</td>\n",
              "    </tr>\n",
              "    <tr>\n",
              "      <th>1</th>\n",
              "      <td>121</td>\n",
              "      <td>193</td>\n",
              "      <td>607</td>\n",
              "      <td>611</td>\n",
              "      <td>585</td>\n",
              "      <td>665</td>\n",
              "      <td>7</td>\n",
              "      <td>9</td>\n",
              "      <td>2</td>\n",
              "      <td>4</td>\n",
              "      <td>3</td>\n",
              "      <td>7</td>\n",
              "      <td>214</td>\n",
              "      <td>514</td>\n",
              "      <td>690</td>\n",
              "      <td>548</td>\n",
              "      <td>630</td>\n",
              "      <td>1006</td>\n",
              "      <td>2</td>\n",
              "      <td>18</td>\n",
              "      <td>31</td>\n",
              "      <td>15</td>\n",
              "      <td>5</td>\n",
              "      <td>15</td>\n",
              "      <td>260</td>\n",
              "      <td>344</td>\n",
              "      <td>655</td>\n",
              "      <td>605</td>\n",
              "      <td>993</td>\n",
              "      <td>743</td>\n",
              "      <td>29</td>\n",
              "      <td>32</td>\n",
              "      <td>25</td>\n",
              "      <td>11</td>\n",
              "      <td>17</td>\n",
              "      <td>6</td>\n",
              "      <td>308</td>\n",
              "      <td>412</td>\n",
              "      <td>719</td>\n",
              "      <td>700</td>\n",
              "      <td>...</td>\n",
              "      <td>0.033657</td>\n",
              "      <td>0.390566</td>\n",
              "      <td>11.700830</td>\n",
              "      <td>65.596013</td>\n",
              "      <td>97.691050</td>\n",
              "      <td>87.946417</td>\n",
              "      <td>0.136957</td>\n",
              "      <td>3.005241</td>\n",
              "      <td>22.837229</td>\n",
              "      <td>40.656873</td>\n",
              "      <td>186.411684</td>\n",
              "      <td>419.543064</td>\n",
              "      <td>0.054929</td>\n",
              "      <td>3.576323</td>\n",
              "      <td>38.546889</td>\n",
              "      <td>100.034785</td>\n",
              "      <td>85.145611</td>\n",
              "      <td>0.414205</td>\n",
              "      <td>8.006745</td>\n",
              "      <td>53.191399</td>\n",
              "      <td>91.367313</td>\n",
              "      <td>371.994407</td>\n",
              "      <td>0.531269</td>\n",
              "      <td>14.376516</td>\n",
              "      <td>74.169044</td>\n",
              "      <td>82.063449</td>\n",
              "      <td>1.348741</td>\n",
              "      <td>29.158736</td>\n",
              "      <td>211.200298</td>\n",
              "      <td>34.597257</td>\n",
              "      <td>2.590208</td>\n",
              "      <td>35.400531</td>\n",
              "      <td>70.681899</td>\n",
              "      <td>6.674412</td>\n",
              "      <td>155.135985</td>\n",
              "      <td>377.832675</td>\n",
              "      <td>8.140633</td>\n",
              "      <td>44.536711</td>\n",
              "      <td>46.338954</td>\n",
              "      <td>518.496567</td>\n",
              "    </tr>\n",
              "    <tr>\n",
              "      <th>2</th>\n",
              "      <td>115</td>\n",
              "      <td>141</td>\n",
              "      <td>590</td>\n",
              "      <td>605</td>\n",
              "      <td>557</td>\n",
              "      <td>627</td>\n",
              "      <td>12</td>\n",
              "      <td>6</td>\n",
              "      <td>3</td>\n",
              "      <td>3</td>\n",
              "      <td>5</td>\n",
              "      <td>4</td>\n",
              "      <td>196</td>\n",
              "      <td>404</td>\n",
              "      <td>611</td>\n",
              "      <td>560</td>\n",
              "      <td>594</td>\n",
              "      <td>986</td>\n",
              "      <td>7</td>\n",
              "      <td>21</td>\n",
              "      <td>28</td>\n",
              "      <td>14</td>\n",
              "      <td>7</td>\n",
              "      <td>12</td>\n",
              "      <td>278</td>\n",
              "      <td>406</td>\n",
              "      <td>670</td>\n",
              "      <td>579</td>\n",
              "      <td>991</td>\n",
              "      <td>703</td>\n",
              "      <td>24</td>\n",
              "      <td>29</td>\n",
              "      <td>18</td>\n",
              "      <td>12</td>\n",
              "      <td>19</td>\n",
              "      <td>9</td>\n",
              "      <td>378</td>\n",
              "      <td>468</td>\n",
              "      <td>668</td>\n",
              "      <td>654</td>\n",
              "      <td>...</td>\n",
              "      <td>0.041733</td>\n",
              "      <td>0.937399</td>\n",
              "      <td>11.629045</td>\n",
              "      <td>33.481501</td>\n",
              "      <td>51.705886</td>\n",
              "      <td>17.760377</td>\n",
              "      <td>0.138112</td>\n",
              "      <td>2.376392</td>\n",
              "      <td>20.892105</td>\n",
              "      <td>68.666675</td>\n",
              "      <td>168.420731</td>\n",
              "      <td>518.229961</td>\n",
              "      <td>0.113119</td>\n",
              "      <td>3.380604</td>\n",
              "      <td>21.119272</td>\n",
              "      <td>52.675563</td>\n",
              "      <td>11.774172</td>\n",
              "      <td>0.328196</td>\n",
              "      <td>7.781216</td>\n",
              "      <td>71.369955</td>\n",
              "      <td>94.039942</td>\n",
              "      <td>402.482819</td>\n",
              "      <td>0.482565</td>\n",
              "      <td>8.101806</td>\n",
              "      <td>40.012973</td>\n",
              "      <td>14.869455</td>\n",
              "      <td>1.336517</td>\n",
              "      <td>35.772897</td>\n",
              "      <td>207.147093</td>\n",
              "      <td>10.924662</td>\n",
              "      <td>1.476285</td>\n",
              "      <td>19.477230</td>\n",
              "      <td>30.093590</td>\n",
              "      <td>7.858211</td>\n",
              "      <td>150.126419</td>\n",
              "      <td>419.565747</td>\n",
              "      <td>4.530921</td>\n",
              "      <td>26.292170</td>\n",
              "      <td>44.574822</td>\n",
              "      <td>549.912691</td>\n",
              "    </tr>\n",
              "    <tr>\n",
              "      <th>3</th>\n",
              "      <td>90</td>\n",
              "      <td>122</td>\n",
              "      <td>627</td>\n",
              "      <td>692</td>\n",
              "      <td>607</td>\n",
              "      <td>642</td>\n",
              "      <td>0</td>\n",
              "      <td>6</td>\n",
              "      <td>4</td>\n",
              "      <td>5</td>\n",
              "      <td>3</td>\n",
              "      <td>5</td>\n",
              "      <td>201</td>\n",
              "      <td>445</td>\n",
              "      <td>664</td>\n",
              "      <td>629</td>\n",
              "      <td>626</td>\n",
              "      <td>945</td>\n",
              "      <td>5</td>\n",
              "      <td>21</td>\n",
              "      <td>27</td>\n",
              "      <td>16</td>\n",
              "      <td>7</td>\n",
              "      <td>9</td>\n",
              "      <td>273</td>\n",
              "      <td>397</td>\n",
              "      <td>703</td>\n",
              "      <td>662</td>\n",
              "      <td>987</td>\n",
              "      <td>710</td>\n",
              "      <td>36</td>\n",
              "      <td>29</td>\n",
              "      <td>21</td>\n",
              "      <td>8</td>\n",
              "      <td>15</td>\n",
              "      <td>10</td>\n",
              "      <td>331</td>\n",
              "      <td>459</td>\n",
              "      <td>731</td>\n",
              "      <td>765</td>\n",
              "      <td>...</td>\n",
              "      <td>0.073624</td>\n",
              "      <td>1.973268</td>\n",
              "      <td>13.057108</td>\n",
              "      <td>36.079443</td>\n",
              "      <td>49.978731</td>\n",
              "      <td>55.037174</td>\n",
              "      <td>0.190329</td>\n",
              "      <td>5.212415</td>\n",
              "      <td>25.128272</td>\n",
              "      <td>51.937089</td>\n",
              "      <td>178.923865</td>\n",
              "      <td>386.324218</td>\n",
              "      <td>0.245137</td>\n",
              "      <td>3.963072</td>\n",
              "      <td>20.036877</td>\n",
              "      <td>27.570634</td>\n",
              "      <td>80.054547</td>\n",
              "      <td>0.692839</td>\n",
              "      <td>8.226120</td>\n",
              "      <td>61.257439</td>\n",
              "      <td>112.688600</td>\n",
              "      <td>324.849754</td>\n",
              "      <td>0.583625</td>\n",
              "      <td>7.453045</td>\n",
              "      <td>23.667204</td>\n",
              "      <td>65.148691</td>\n",
              "      <td>1.326251</td>\n",
              "      <td>31.813000</td>\n",
              "      <td>239.672998</td>\n",
              "      <td>21.054749</td>\n",
              "      <td>1.349613</td>\n",
              "      <td>14.179518</td>\n",
              "      <td>30.564085</td>\n",
              "      <td>7.097728</td>\n",
              "      <td>173.840759</td>\n",
              "      <td>441.350376</td>\n",
              "      <td>3.706023</td>\n",
              "      <td>13.432311</td>\n",
              "      <td>51.739930</td>\n",
              "      <td>574.887814</td>\n",
              "    </tr>\n",
              "    <tr>\n",
              "      <th>4</th>\n",
              "      <td>157</td>\n",
              "      <td>167</td>\n",
              "      <td>681</td>\n",
              "      <td>666</td>\n",
              "      <td>587</td>\n",
              "      <td>666</td>\n",
              "      <td>8</td>\n",
              "      <td>6</td>\n",
              "      <td>1</td>\n",
              "      <td>4</td>\n",
              "      <td>5</td>\n",
              "      <td>5</td>\n",
              "      <td>212</td>\n",
              "      <td>386</td>\n",
              "      <td>740</td>\n",
              "      <td>613</td>\n",
              "      <td>614</td>\n",
              "      <td>997</td>\n",
              "      <td>5</td>\n",
              "      <td>21</td>\n",
              "      <td>30</td>\n",
              "      <td>11</td>\n",
              "      <td>7</td>\n",
              "      <td>17</td>\n",
              "      <td>248</td>\n",
              "      <td>390</td>\n",
              "      <td>703</td>\n",
              "      <td>662</td>\n",
              "      <td>949</td>\n",
              "      <td>744</td>\n",
              "      <td>28</td>\n",
              "      <td>29</td>\n",
              "      <td>20</td>\n",
              "      <td>13</td>\n",
              "      <td>19</td>\n",
              "      <td>10</td>\n",
              "      <td>244</td>\n",
              "      <td>468</td>\n",
              "      <td>797</td>\n",
              "      <td>743</td>\n",
              "      <td>...</td>\n",
              "      <td>0.046477</td>\n",
              "      <td>1.117292</td>\n",
              "      <td>10.012169</td>\n",
              "      <td>27.169266</td>\n",
              "      <td>67.849862</td>\n",
              "      <td>71.512437</td>\n",
              "      <td>0.076843</td>\n",
              "      <td>2.660718</td>\n",
              "      <td>24.901428</td>\n",
              "      <td>61.750370</td>\n",
              "      <td>216.615177</td>\n",
              "      <td>417.658858</td>\n",
              "      <td>0.144952</td>\n",
              "      <td>3.055750</td>\n",
              "      <td>12.775389</td>\n",
              "      <td>47.312230</td>\n",
              "      <td>66.377015</td>\n",
              "      <td>0.384703</td>\n",
              "      <td>9.695486</td>\n",
              "      <td>75.963320</td>\n",
              "      <td>86.050213</td>\n",
              "      <td>399.975218</td>\n",
              "      <td>0.452419</td>\n",
              "      <td>4.055963</td>\n",
              "      <td>23.946695</td>\n",
              "      <td>50.192029</td>\n",
              "      <td>1.721486</td>\n",
              "      <td>40.003794</td>\n",
              "      <td>222.227638</td>\n",
              "      <td>83.421886</td>\n",
              "      <td>0.667971</td>\n",
              "      <td>8.705403</td>\n",
              "      <td>30.242473</td>\n",
              "      <td>9.015714</td>\n",
              "      <td>167.021185</td>\n",
              "      <td>332.479997</td>\n",
              "      <td>1.806273</td>\n",
              "      <td>23.689300</td>\n",
              "      <td>50.407770</td>\n",
              "      <td>492.227513</td>\n",
              "    </tr>\n",
              "  </tbody>\n",
              "</table>\n",
              "<p>5 rows × 649 columns</p>\n",
              "</div>"
            ],
            "text/plain": [
              "   fac1  fac2  fac3  fac4  ...     zer44      zer45      zer46       zer47\n",
              "0    98   236   531   673  ...  9.711070  20.007248  47.032578  539.208457\n",
              "1   121   193   607   611  ...  8.140633  44.536711  46.338954  518.496567\n",
              "2   115   141   590   605  ...  4.530921  26.292170  44.574822  549.912691\n",
              "3    90   122   627   692  ...  3.706023  13.432311  51.739930  574.887814\n",
              "4   157   167   681   666  ...  1.806273  23.689300  50.407770  492.227513\n",
              "\n",
              "[5 rows x 649 columns]"
            ]
          },
          "metadata": {
            "tags": []
          },
          "execution_count": 8
        }
      ]
    },
    {
      "cell_type": "code",
      "metadata": {
        "id": "qlKVF1JiSmUn"
      },
      "source": [
        "scaler = preprocessing.StandardScaler()\n",
        "#scaler=preprocessing.scale()"
      ],
      "execution_count": null,
      "outputs": []
    },
    {
      "cell_type": "code",
      "metadata": {
        "id": "c1nrFCakA_ne"
      },
      "source": [
        "# Fit your data on the scaler object\n",
        "scaled_data1 = scaler.fit_transform(data1)\n",
        "scaled_data1 = pd.DataFrame(scaled_data1, columns=data1.columns)\n",
        "\n",
        "\n",
        "scaled_data2 = scaler.fit_transform(data2)\n",
        "scaled_data2 = pd.DataFrame(scaled_data2, columns=data2.columns)\n",
        "\n",
        "\n",
        "scaled_data3 = scaler.fit_transform(data3)\n",
        "scaled_data3 = pd.DataFrame(scaled_data3, columns=data3.columns)\n",
        "\n",
        "scaled_data4 = scaler.fit_transform(data4)\n",
        "scaled_data4 = pd.DataFrame(scaled_data4, columns=data4.columns)\n",
        "\n",
        "scaled_data5 = scaler.fit_transform(data5)\n",
        "scaled_data5 = pd.DataFrame(scaled_data5, columns=data5.columns)\n",
        "\n",
        "scaled_data6 = scaler.fit_transform(data6)\n",
        "scaled_data6 = pd.DataFrame(scaled_data6, columns=data6.columns)\n"
      ],
      "execution_count": null,
      "outputs": []
    },
    {
      "cell_type": "code",
      "metadata": {
        "colab": {
          "base_uri": "https://localhost:8080/"
        },
        "id": "wkz1bE-lDZiI",
        "outputId": "0912eaa2-dd34-4dd1-add4-c7a3178b173f"
      },
      "source": [
        "print(scaled_data1.shape,scaled_data2.shape,scaled_data3.shape,scaled_data4.shape,scaled_data5.shape,scaled_data6.shape)"
      ],
      "execution_count": null,
      "outputs": [
        {
          "output_type": "stream",
          "text": [
            "(2000, 216) (2000, 76) (2000, 64) (2000, 6) (2000, 240) (2000, 47)\n"
          ],
          "name": "stdout"
        }
      ]
    },
    {
      "cell_type": "code",
      "metadata": {
        "id": "r1bjkAqCUmyl",
        "colab": {
          "base_uri": "https://localhost:8080/",
          "height": 458
        },
        "outputId": "cd5c33af-25c6-4ba2-8d2e-672ddd0ff24a"
      },
      "source": [
        "pca=PCA(0.95)\n",
        "pca.fit(scaled_data1)\n",
        "pca_data1=pca.transform(scaled_data1)\n",
        "pca_data1=pd.DataFrame(pca_data1, columns=['PCfa_'+str(i) for i in range(pca_data1.shape[1])])\n",
        "per_var_data1=np.round(pca.explained_variance_ratio_*100,decimals=1)\n",
        "labels=['PCfa'+str(x) for x in range(1,len(per_var_data1)+1)]\n",
        "plt.figure(figsize=(10,7))\n",
        "plt.bar(x=range(1,len(per_var_data1)+1),height=per_var_data1, tick_label=labels,)\n",
        "plt.ylabel('Percentage of Explained Variance')\n",
        "plt.xlabel('Principal Component')\n",
        "plt.title('Scree Plot data_mfeat-fac')\n",
        "plt.show()"
      ],
      "execution_count": null,
      "outputs": [
        {
          "output_type": "display_data",
          "data": {
            "image/png": "[encoded data removed]",
            "text/plain": [
              "<Figure size 720x504 with 1 Axes>"
            ]
          },
          "metadata": {
            "tags": [],
            "needs_background": "light"
          }
        }
      ]
    },
    {
      "cell_type": "code",
      "metadata": {
        "colab": {
          "base_uri": "https://localhost:8080/",
          "height": 279
        },
        "id": "006xrJB1NC5j",
        "outputId": "8d5dcbf3-f0cb-4279-e65f-f0578cef77d3"
      },
      "source": [
        "plt.plot(np.cumsum(pca.explained_variance_ratio_))\n",
        "plt.xlabel('number of components')\n",
        "plt.ylabel('cumulative explained variance');"
      ],
      "execution_count": null,
      "outputs": [
        {
          "output_type": "display_data",
          "data": {
            "image/png": "[encoded data removed]",
            "text/plain": [
              "<Figure size 432x288 with 1 Axes>"
            ]
          },
          "metadata": {
            "tags": [],
            "needs_background": "light"
          }
        }
      ]
    },
    {
      "cell_type": "code",
      "metadata": {
        "colab": {
          "base_uri": "https://localhost:8080/"
        },
        "id": "6_eRnco_S4_7",
        "outputId": "a064aafc-dbe1-4d82-f85e-da496ee7774f"
      },
      "source": [
        "print('the initial shape was:',data1.shape,'the new shape is :',pca_data1.shape)"
      ],
      "execution_count": null,
      "outputs": [
        {
          "output_type": "stream",
          "text": [
            "the initial shape was: (2000, 216) the new shape is : (2000, 30)\n"
          ],
          "name": "stdout"
        }
      ]
    },
    {
      "cell_type": "code",
      "metadata": {
        "colab": {
          "base_uri": "https://localhost:8080/",
          "height": 458
        },
        "id": "czkR-H_FGv5l",
        "outputId": "d41721f9-4c80-4526-e645-7b6d4d947484"
      },
      "source": [
        "pca=PCA(0.95)\n",
        "pca.fit(scaled_data2)\n",
        "pca_data2=pca.transform(scaled_data2)\n",
        "pca_data2=pd.DataFrame(pca_data2, columns=['PCfo_'+str(i) for i in range(pca_data2.shape[1])])\n",
        "per_var_data2=np.round(pca.explained_variance_ratio_*100,decimals=1)\n",
        "labels=['PCfo'+str(x) for x in range(1,len(per_var_data2)+1)]\n",
        "plt.figure(figsize=(10,7))\n",
        "plt.bar(x=range(1,len(per_var_data2)+1),height=per_var_data2, tick_label=labels,)\n",
        "plt.ylabel('Percentage of Explained Variance')\n",
        "plt.xlabel('Principal Component')\n",
        "plt.title('Scree Plot data_mfeat-fou')\n",
        "plt.show()"
      ],
      "execution_count": null,
      "outputs": [
        {
          "output_type": "display_data",
          "data": {
            "image/png": "[encoded data removed]",
            "text/plain": [
              "<Figure size 720x504 with 1 Axes>"
            ]
          },
          "metadata": {
            "tags": [],
            "needs_background": "light"
          }
        }
      ]
    },
    {
      "cell_type": "code",
      "metadata": {
        "colab": {
          "base_uri": "https://localhost:8080/",
          "height": 279
        },
        "id": "JWaBgnJwM8x6",
        "outputId": "472e37e0-47b1-432f-e3fb-9a48301abac3"
      },
      "source": [
        "plt.plot(np.cumsum(pca.explained_variance_ratio_))\n",
        "plt.xlabel('number of components')\n",
        "plt.ylabel('cumulative explained variance');"
      ],
      "execution_count": null,
      "outputs": [
        {
          "output_type": "display_data",
          "data": {
            "image/png": "[encoded data removed]",
            "text/plain": [
              "<Figure size 432x288 with 1 Axes>"
            ]
          },
          "metadata": {
            "tags": [],
            "needs_background": "light"
          }
        }
      ]
    },
    {
      "cell_type": "code",
      "metadata": {
        "colab": {
          "base_uri": "https://localhost:8080/"
        },
        "id": "8mzbraZ-Q5h-",
        "outputId": "429176ac-754f-410c-b3a3-698d2e1f4aab"
      },
      "source": [
        "print('the initial shape was:',data2.shape,'the new shape is :',pca_data2.shape)"
      ],
      "execution_count": null,
      "outputs": [
        {
          "output_type": "stream",
          "text": [
            "the initial shape was: (2000, 76) the new shape is : (2000, 58)\n"
          ],
          "name": "stdout"
        }
      ]
    },
    {
      "cell_type": "code",
      "metadata": {
        "colab": {
          "base_uri": "https://localhost:8080/",
          "height": 458
        },
        "id": "WhMZjgDcFxkQ",
        "outputId": "ed11e3c9-a0fd-4be2-8d22-f016eed0be86"
      },
      "source": [
        "pca=PCA(0.95)\n",
        "pca.fit(scaled_data3)\n",
        "pca_data3=pca.transform(scaled_data3)\n",
        "pca_data3=pd.DataFrame(pca_data3, columns=['PCka_'+str(i) for i in range(pca_data3.shape[1])])\n",
        "per_var_data3=np.round(pca.explained_variance_ratio_*100,decimals=1)\n",
        "labels=['PCka'+str(x) for x in range(1,len(per_var_data3)+1)]\n",
        "plt.figure(figsize=(10,7))\n",
        "plt.bar(x=range(1,len(per_var_data3)+1),height=per_var_data3, tick_label=labels,)\n",
        "plt.ylabel('Percentage of Explained Variance')\n",
        "plt.xlabel('Principal Component')\n",
        "plt.title('Scree Plot data_mfeat-kar')\n",
        "plt.show()"
      ],
      "execution_count": null,
      "outputs": [
        {
          "output_type": "display_data",
          "data": {
            "image/png": "[encoded data removed]",
            "text/plain": [
              "<Figure size 720x504 with 1 Axes>"
            ]
          },
          "metadata": {
            "tags": [],
            "needs_background": "light"
          }
        }
      ]
    },
    {
      "cell_type": "code",
      "metadata": {
        "colab": {
          "base_uri": "https://localhost:8080/",
          "height": 279
        },
        "id": "VE5Ndb_yM47i",
        "outputId": "eb808b7b-ad3d-494c-96ef-f28bb2e35081"
      },
      "source": [
        "plt.plot(np.cumsum(pca.explained_variance_ratio_))\n",
        "plt.xlabel('number of components')\n",
        "plt.ylabel('cumulative explained variance');"
      ],
      "execution_count": null,
      "outputs": [
        {
          "output_type": "display_data",
          "data": {
            "image/png": "[encoded data removed]",
            "text/plain": [
              "<Figure size 432x288 with 1 Axes>"
            ]
          },
          "metadata": {
            "tags": [],
            "needs_background": "light"
          }
        }
      ]
    },
    {
      "cell_type": "code",
      "metadata": {
        "colab": {
          "base_uri": "https://localhost:8080/"
        },
        "id": "c_mtUfY_RRpz",
        "outputId": "286331c0-eac9-46e0-c498-36653505f6f0"
      },
      "source": [
        "print('the initial shape was',data3.shape,'the new shape is',pca_data3.shape)"
      ],
      "execution_count": null,
      "outputs": [
        {
          "output_type": "stream",
          "text": [
            "the initial shape was (2000, 64) the new shape is (2000, 50)\n"
          ],
          "name": "stdout"
        }
      ]
    },
    {
      "cell_type": "code",
      "metadata": {
        "colab": {
          "base_uri": "https://localhost:8080/",
          "height": 458
        },
        "id": "4qVWBdAFJOvC",
        "outputId": "adef4922-af21-4bb3-80f4-3ad6f9238b99"
      },
      "source": [
        "pca=PCA(.95)\n",
        "pca.fit(scaled_data4)\n",
        "pca_data4=pca.transform(scaled_data4)\n",
        "pca_data4=pd.DataFrame(pca_data4, columns=['PCmo_'+str(i) for i in range(pca_data4.shape[1])])\n",
        "per_var_data4=np.round(pca.explained_variance_ratio_*100,decimals=1)\n",
        "labels=['PCmo'+str(x) for x in range(1,len(per_var_data4)+1)]\n",
        "plt.figure(figsize=(10,7))\n",
        "plt.bar(x=range(1,len(per_var_data4)+1),height=per_var_data4, tick_label=labels,)\n",
        "plt.ylabel('Percentage of Explained Variance')\n",
        "plt.xlabel('Principal Component')\n",
        "plt.title('Scree Plot data_mfeat-mor')\n",
        "plt.show()"
      ],
      "execution_count": null,
      "outputs": [
        {
          "output_type": "display_data",
          "data": {
            "image/png": "[encoded data removed]",
            "text/plain": [
              "<Figure size 720x504 with 1 Axes>"
            ]
          },
          "metadata": {
            "tags": [],
            "needs_background": "light"
          }
        }
      ]
    },
    {
      "cell_type": "code",
      "metadata": {
        "colab": {
          "base_uri": "https://localhost:8080/",
          "height": 279
        },
        "id": "FYhg5npUMLgI",
        "outputId": "d665969b-7241-4a8f-fc21-840675159664"
      },
      "source": [
        "plt.plot(np.cumsum(pca.explained_variance_ratio_))\n",
        "plt.xlabel('number of components')\n",
        "plt.ylabel('cumulative explained variance');"
      ],
      "execution_count": null,
      "outputs": [
        {
          "output_type": "display_data",
          "data": {
            "image/png": "[encoded data removed]",
            "text/plain": [
              "<Figure size 432x288 with 1 Axes>"
            ]
          },
          "metadata": {
            "tags": [],
            "needs_background": "light"
          }
        }
      ]
    },
    {
      "cell_type": "code",
      "metadata": {
        "colab": {
          "base_uri": "https://localhost:8080/"
        },
        "id": "gswomTosRvh1",
        "outputId": "354fefc9-c0ce-4609-d82d-9d592637b768"
      },
      "source": [
        "print('the initial shape was',data4.shape,'the new shape is',pca_data4.shape)"
      ],
      "execution_count": null,
      "outputs": [
        {
          "output_type": "stream",
          "text": [
            "the initial shape was (2000, 6) the new shape is (2000, 3)\n"
          ],
          "name": "stdout"
        }
      ]
    },
    {
      "cell_type": "code",
      "metadata": {
        "colab": {
          "base_uri": "https://localhost:8080/",
          "height": 458
        },
        "id": "g8ZzQ3JoJghA",
        "outputId": "e2777675-e9e1-42af-87ad-fd4f466b6bcf"
      },
      "source": [
        "pca=PCA(0.95)\n",
        "pca.fit(scaled_data5)\n",
        "pca_data5=pca.transform(scaled_data5)\n",
        "pca_data5=pd.DataFrame(pca_data5, columns=['PCpi_'+str(i) for i in range(pca_data5.shape[1])])\n",
        "per_var_data5=np.round(pca.explained_variance_ratio_*100,decimals=1)\n",
        "labels=['PCpi'+str(x) for x in range(1,len(per_var_data5)+1)]\n",
        "plt.figure(figsize=(10,7))\n",
        "plt.bar(x=range(1,len(per_var_data5)+1),height=per_var_data5, tick_label=labels,)\n",
        "plt.ylabel('Percentage of Explained Variance')\n",
        "plt.xlabel('Principal Component')\n",
        "plt.title('Scree Plot data_mfeat-pix')\n",
        "plt.show()"
      ],
      "execution_count": null,
      "outputs": [
        {
          "output_type": "display_data",
          "data": {
            "image/png": "[encoded data removed]",
            "text/plain": [
              "<Figure size 720x504 with 1 Axes>"
            ]
          },
          "metadata": {
            "tags": [],
            "needs_background": "light"
          }
        }
      ]
    },
    {
      "cell_type": "code",
      "metadata": {
        "colab": {
          "base_uri": "https://localhost:8080/",
          "height": 279
        },
        "id": "QKhxfe6vMXkw",
        "outputId": "74339bef-404d-4ceb-833d-833ba4ffc795"
      },
      "source": [
        "plt.plot(np.cumsum(pca.explained_variance_ratio_))\n",
        "plt.xlabel('number of components')\n",
        "plt.ylabel('cumulative explained variance');"
      ],
      "execution_count": null,
      "outputs": [
        {
          "output_type": "display_data",
          "data": {
            "image/png": "[encoded data removed]",
            "text/plain": [
              "<Figure size 432x288 with 1 Axes>"
            ]
          },
          "metadata": {
            "tags": [],
            "needs_background": "light"
          }
        }
      ]
    },
    {
      "cell_type": "code",
      "metadata": {
        "colab": {
          "base_uri": "https://localhost:8080/"
        },
        "id": "7EMq1_lfSE6P",
        "outputId": "8545efa1-5051-4fc1-c15d-fb92de2048d5"
      },
      "source": [
        "print('the initial shape was',data5.shape,'the new shape is',pca_data5.shape)"
      ],
      "execution_count": null,
      "outputs": [
        {
          "output_type": "stream",
          "text": [
            "the initial shape was (2000, 240) the new shape is (2000, 91)\n"
          ],
          "name": "stdout"
        }
      ]
    },
    {
      "cell_type": "code",
      "metadata": {
        "colab": {
          "base_uri": "https://localhost:8080/",
          "height": 458
        },
        "id": "57r8swVUJ5-I",
        "outputId": "3e1095ce-d440-4389-a774-4bb7136e3419"
      },
      "source": [
        "pca=PCA(0.95)\n",
        "pca.fit(scaled_data6)\n",
        "pca_data6=pca.transform(scaled_data6)\n",
        "pca_data6=pd.DataFrame(pca_data6, columns=['PCze_'+str(i) for i in range(pca_data6.shape[1])])\n",
        "per_var_data6=np.round(pca.explained_variance_ratio_*100,decimals=1)\n",
        "labels=['PCze'+str(x) for x in range(1,len(per_var_data6)+1)]\n",
        "plt.figure(figsize=(10,7))\n",
        "plt.bar(x=range(1,len(per_var_data6)+1),height=per_var_data6, tick_label=labels,)\n",
        "plt.ylabel('Percentage of Explained Variance')\n",
        "plt.xlabel('Principal Component')\n",
        "plt.title('Scree Plot data_mfeat-zer')\n",
        "plt.show()"
      ],
      "execution_count": null,
      "outputs": [
        {
          "output_type": "display_data",
          "data": {
            "image/png": "[encoded data removed]",
            "text/plain": [
              "<Figure size 720x504 with 1 Axes>"
            ]
          },
          "metadata": {
            "tags": [],
            "needs_background": "light"
          }
        }
      ]
    },
    {
      "cell_type": "code",
      "metadata": {
        "colab": {
          "base_uri": "https://localhost:8080/",
          "height": 279
        },
        "id": "r9RWRktKMqpD",
        "outputId": "41499c8b-ff88-405c-c452-21658d2a8dd3"
      },
      "source": [
        "plt.plot(np.cumsum(pca.explained_variance_ratio_))\n",
        "plt.xlabel('number of components')\n",
        "plt.ylabel('cumulative explained variance');"
      ],
      "execution_count": null,
      "outputs": [
        {
          "output_type": "display_data",
          "data": {
            "image/png": "[encoded data removed]",
            "text/plain": [
              "<Figure size 432x288 with 1 Axes>"
            ]
          },
          "metadata": {
            "tags": [],
            "needs_background": "light"
          }
        }
      ]
    },
    {
      "cell_type": "code",
      "metadata": {
        "colab": {
          "base_uri": "https://localhost:8080/"
        },
        "id": "MBl8eMWRSVt_",
        "outputId": "950c5f1d-996c-40bc-cbd3-3c99fb1e830f"
      },
      "source": [
        "print('the initial shape was',data6.shape,'the new shape is',pca_data6.shape)"
      ],
      "execution_count": null,
      "outputs": [
        {
          "output_type": "stream",
          "text": [
            "the initial shape was (2000, 47) the new shape is (2000, 16)\n"
          ],
          "name": "stdout"
        }
      ]
    },
    {
      "cell_type": "code",
      "metadata": {
        "colab": {
          "base_uri": "https://localhost:8080/"
        },
        "id": "U4wo3U1VTiw_",
        "outputId": "e7835723-b362-4f74-8884-9e9bc7fb88b7"
      },
      "source": [
        "PCA_frames = [pca_data1, pca_data2,pca_data3,pca_data4,pca_data5,pca_data6]\n",
        "  \n",
        "PCA_result = pd.concat(PCA_frames,axis=1,join='inner')\n",
        "print('the shape of the merge of all the PCA dataset is:',PCA_result.shape)"
      ],
      "execution_count": null,
      "outputs": [
        {
          "output_type": "stream",
          "text": [
            "the shape of the merge of all the PCA dataset is: (2000, 248)\n"
          ],
          "name": "stdout"
        }
      ]
    },
    {
      "cell_type": "code",
      "metadata": {
        "id": "KfUx5psoZ9Gs"
      },
      "source": [
        "from sklearn.cluster import KMeans \n",
        "k_means = KMeans(init = \"k-means++\", n_clusters = 10,n_init=10,random_state=42)\n",
        "k_means.fit(PCA_result)\n",
        "labels = k_means.labels_\n",
        "import numpy\n",
        "lst=0\n",
        "p=0\n",
        "new=[]\n",
        "for i in range(0,2000,200):\n",
        "  (unique, counts) = numpy.unique(labels[i:i+200], return_counts=True)\n",
        "  frequencies= numpy.asarray((unique, counts))\n",
        "  #print(frequencies)\n",
        "  v=labels[i:i+200]\n",
        "  a=np.bincount(labels[i:i+200]).argmax()\n",
        "  #print(a)\n",
        "  for j in range(len(v)):\n",
        "    if v[j]==a:\n",
        "      v[j]=p\n",
        "    new.append(v[j])\n",
        "  p+=1\n",
        "label_new1=np.array(new)"
      ],
      "execution_count": null,
      "outputs": []
    },
    {
      "cell_type": "code",
      "metadata": {
        "colab": {
          "base_uri": "https://localhost:8080/"
        },
        "id": "POzuopw0guCB",
        "outputId": "6c8a5901-1f2c-4df1-8795-157a3e25ae24"
      },
      "source": [
        "print('the accurancy for the first method is:',accuracy_score(true_label, label_new1))"
      ],
      "execution_count": null,
      "outputs": [
        {
          "output_type": "stream",
          "text": [
            "the accurancy for the first method is: 0.92\n"
          ],
          "name": "stdout"
        }
      ]
    },
    {
      "cell_type": "code",
      "metadata": {
        "colab": {
          "base_uri": "https://localhost:8080/"
        },
        "id": "q2DsWMcE0VrA",
        "outputId": "c9dcfb17-a281-4df4-912c-5cdcfff15da3"
      },
      "source": [
        "print('the adjusted_rand_score is:',adjusted_rand_score(true_label, labels))"
      ],
      "execution_count": null,
      "outputs": [
        {
          "output_type": "stream",
          "text": [
            "the adjusted_rand_score is: 0.8640814339475328\n"
          ],
          "name": "stdout"
        }
      ]
    },
    {
      "cell_type": "code",
      "metadata": {
        "colab": {
          "base_uri": "https://localhost:8080/",
          "height": 656
        },
        "id": "U-lOY4MIz5uz",
        "outputId": "3c28b879-8d21-46c8-d01e-e0676c832d2e"
      },
      "source": [
        "import seaborn as sns\n",
        "PCA_result ['labels']=label_new1\n",
        "#plot data with seaborn\n",
        "facet = sns.lmplot(data=PCA_result, x='PCpi_0', y='PCmo_0', hue='labels', \n",
        "                   fit_reg=False, legend=True, legend_out=True,size=8)"
      ],
      "execution_count": null,
      "outputs": [
        {
          "output_type": "stream",
          "text": [
            "/usr/local/lib/python3.7/dist-packages/seaborn/regression.py:580: UserWarning: The `size` parameter has been renamed to `height`; please update your code.\n",
            "  warnings.warn(msg, UserWarning)\n"
          ],
          "name": "stderr"
        },
        {
          "output_type": "display_data",
          "data": {
            "image/png": "[encoded data removed]",
            "text/plain": [
              "<Figure size 618.375x576 with 1 Axes>"
            ]
          },
          "metadata": {
            "tags": [],
            "needs_background": "light"
          }
        }
      ]
    },
    {
      "cell_type": "code",
      "metadata": {
        "colab": {
          "base_uri": "https://localhost:8080/"
        },
        "id": "eOJWGsHhCKrh",
        "outputId": "37a4a557-b6ee-43d4-a6a5-292f620d8a6f"
      },
      "source": [
        "from sklearn.cluster import AgglomerativeClustering\n",
        "\n",
        "cluster = AgglomerativeClustering(n_clusters=1, affinity='euclidean', linkage='ward')\n",
        "col=PCA_result.columns\n",
        "cluster.fit_predict(PCA_result[col[:-1]])\n",
        "labels11 = cluster.labels_\n",
        "(unique, counts) = numpy.unique(labels11, return_counts=True)\n",
        "frequencies = numpy.asarray( (unique,counts))\n",
        "print(frequencies)"
      ],
      "execution_count": null,
      "outputs": [
        {
          "output_type": "stream",
          "text": [
            "[[   0]\n",
            " [2000]]\n"
          ],
          "name": "stdout"
        }
      ]
    },
    {
      "cell_type": "code",
      "metadata": {
        "colab": {
          "base_uri": "https://localhost:8080/",
          "height": 458
        },
        "id": "gBo00_Qw1w0J",
        "outputId": "04cfed4e-2303-4d1c-9a63-7521023ae047"
      },
      "source": [
        "scaled_result = scaler.fit_transform(result)\n",
        "scaled_result = pd.DataFrame(scaled_result, columns=result.columns)\n",
        "pca=PCA(0.95)\n",
        "pca.fit(scaled_result)\n",
        "pca_result2=pca.transform(scaled_result)\n",
        "pca_result2=pd.DataFrame(pca_result2, columns=['PC'+str(i) for i in range(pca_result2.shape[1])])\n",
        "per_var_result=np.round(pca.explained_variance_ratio_*100,decimals=1)\n",
        "labels=['PC'+str(x) for x in range(1,len(per_var_result)+1)]\n",
        "plt.figure(figsize=(10,7))\n",
        "plt.bar(x=range(1,len(per_var_result)+1),height=per_var_result, tick_label=labels,)\n",
        "plt.ylabel('Percentage of Explained Variance')\n",
        "plt.xlabel('Principal Component')\n",
        "plt.title('Scree Plot data_mfeat-pix')\n",
        "plt.show()"
      ],
      "execution_count": null,
      "outputs": [
        {
          "output_type": "display_data",
          "data": {
            "image/png": "[encoded data removed]",
            "text/plain": [
              "<Figure size 720x504 with 1 Axes>"
            ]
          },
          "metadata": {
            "tags": [],
            "needs_background": "light"
          }
        }
      ]
    },
    {
      "cell_type": "code",
      "metadata": {
        "colab": {
          "base_uri": "https://localhost:8080/",
          "height": 279
        },
        "id": "mWaJdZfo2pUm",
        "outputId": "44d25684-e930-45fb-f35e-d72f81044bf3"
      },
      "source": [
        "plt.plot(np.cumsum(pca.explained_variance_ratio_))\n",
        "plt.xlabel('number of components')\n",
        "plt.ylabel('cumulative explained variance');"
      ],
      "execution_count": null,
      "outputs": [
        {
          "output_type": "display_data",
          "data": {
            "image/png": "[encoded data removed]",
            "text/plain": [
              "<Figure size 432x288 with 1 Axes>"
            ]
          },
          "metadata": {
            "tags": [],
            "needs_background": "light"
          }
        }
      ]
    },
    {
      "cell_type": "code",
      "metadata": {
        "colab": {
          "base_uri": "https://localhost:8080/"
        },
        "id": "G52M7h6_2weW",
        "outputId": "086f2a50-f40f-40cf-8bbf-7b92c2061686"
      },
      "source": [
        "print('the initial shape was',result.shape,'the new shape is',pca_result2.shape)"
      ],
      "execution_count": null,
      "outputs": [
        {
          "output_type": "stream",
          "text": [
            "the initial shape was (2000, 649) the new shape is (2000, 154)\n"
          ],
          "name": "stdout"
        }
      ]
    },
    {
      "cell_type": "code",
      "metadata": {
        "id": "kvcPihGXhm7G"
      },
      "source": [
        "from sklearn.cluster import KMeans \n",
        "k_means = KMeans(init = \"k-means++\", n_clusters = 10,n_init=10,random_state=42)\n",
        "k_means.fit(pca_result2)\n",
        "labels2 = k_means.labels_\n",
        "import numpy\n",
        "lst=0\n",
        "p=0\n",
        "new2=[]\n",
        "for i in range(0,2000,200):\n",
        "  (unique, counts) = numpy.unique(labels2[i:i+200], return_counts=True)\n",
        "  frequencies= numpy.asarray((unique, counts))\n",
        "  #print(frequencies)\n",
        "  v=labels2[i:i+200]\n",
        "  a=np.bincount(labels2[i:i+200]).argmax()\n",
        "  #print(a)\n",
        "  for j in range(len(v)):\n",
        "    if v[j]==a:\n",
        "      v[j]=p\n",
        "    new2.append(v[j])\n",
        "  p+=1\n",
        "label_new2=np.array(new2)"
      ],
      "execution_count": null,
      "outputs": []
    },
    {
      "cell_type": "code",
      "metadata": {
        "colab": {
          "base_uri": "https://localhost:8080/"
        },
        "id": "kHtsJr8wiCqG",
        "outputId": "09ac65b8-30fa-44d2-dc4d-f54068ae3a47"
      },
      "source": [
        "print('the accurancy is:',accuracy_score(true_label, label_new2))"
      ],
      "execution_count": null,
      "outputs": [
        {
          "output_type": "stream",
          "text": [
            "the accurancy is: 0.927\n"
          ],
          "name": "stdout"
        }
      ]
    },
    {
      "cell_type": "code",
      "metadata": {
        "colab": {
          "base_uri": "https://localhost:8080/"
        },
        "id": "Ua4l9YBPz_M3",
        "outputId": "af003004-81b6-4cf1-ac77-0ae5f19b6214"
      },
      "source": [
        "print('the adjusted_rand_score is:',adjusted_rand_score(true_label, labels2))"
      ],
      "execution_count": null,
      "outputs": [
        {
          "output_type": "stream",
          "text": [
            "the accurancy is: 0.822304484762494\n"
          ],
          "name": "stdout"
        }
      ]
    },
    {
      "cell_type": "code",
      "metadata": {
        "colab": {
          "base_uri": "https://localhost:8080/",
          "height": 655
        },
        "id": "2vefOzF04FiM",
        "outputId": "7240d423-834d-4f4a-bdd1-e239e9aa3c17"
      },
      "source": [
        "pca_result2 ['labels']=label_new2\n",
        "#plot data with seaborn\n",
        "facet = sns.lmplot(data=pca_result2, x='PC0', y='PC1', hue='labels', \n",
        "                   fit_reg=False, legend=True, legend_out=True,size=8,)"
      ],
      "execution_count": null,
      "outputs": [
        {
          "output_type": "stream",
          "text": [
            "/usr/local/lib/python3.7/dist-packages/seaborn/regression.py:580: UserWarning: The `size` parameter has been renamed to `height`; please update your code.\n",
            "  warnings.warn(msg, UserWarning)\n"
          ],
          "name": "stderr"
        },
        {
          "output_type": "display_data",
          "data": {
            "image/png": "[encoded data removed]",
            "text/plain": [
              "<Figure size 618.375x576 with 1 Axes>"
            ]
          },
          "metadata": {
            "tags": [],
            "needs_background": "light"
          }
        }
      ]
    },
    {
      "cell_type": "code",
      "metadata": {
        "colab": {
          "base_uri": "https://localhost:8080/"
        },
        "id": "iTlC3Vro9-YA",
        "outputId": "a570b801-789b-4983-c915-e24d35ed1031"
      },
      "source": [
        "from sklearn.cluster import AgglomerativeClustering\n",
        "\n",
        "cluster = AgglomerativeClustering(n_clusters=2, affinity='euclidean', linkage='ward')\n",
        "col=pca_result2.columns\n",
        "cluster.fit_predict(pca_result2[col[:-1]])\n",
        "labels12 = cluster.labels_\n",
        "(unique, counts) = numpy.unique(labels12, return_counts=True)\n",
        "frequencies = numpy.asarray( (unique,counts))\n",
        "print(frequencies)"
      ],
      "execution_count": null,
      "outputs": [
        {
          "output_type": "stream",
          "text": [
            "[[   0    1]\n",
            " [ 809 1191]]\n"
          ],
          "name": "stdout"
        }
      ]
    },
    {
      "cell_type": "code",
      "metadata": {
        "colab": {
          "base_uri": "https://localhost:8080/"
        },
        "id": "qZfAhcBz_2wv",
        "outputId": "ffdba432-646c-4593-9ce0-5f1ae45dcb5d"
      },
      "source": [
        "(unique, counts) = numpy.unique(labels2, return_counts=True)\n",
        "frequencies = numpy.asarray( (unique,counts))\n",
        "print(frequencies)"
      ],
      "execution_count": null,
      "outputs": [
        {
          "output_type": "stream",
          "text": [
            "[[  0   1   2   3   4   5   6   7   8   9]\n",
            " [207 199 228 191 196 185 240 162 199 193]]\n"
          ],
          "name": "stdout"
        }
      ]
    },
    {
      "cell_type": "code",
      "metadata": {
        "colab": {
          "base_uri": "https://localhost:8080/",
          "height": 439
        },
        "id": "org2EIGmEe72",
        "outputId": "92947771-8cbb-4ce6-8405-e6cdfb2d3ca4"
      },
      "source": [
        "pca_data3"
      ],
      "execution_count": null,
      "outputs": [
        {
          "output_type": "execute_result",
          "data": {
            "text/html": [
              "<div>\n",
              "<style scoped>\n",
              "    .dataframe tbody tr th:only-of-type {\n",
              "        vertical-align: middle;\n",
              "    }\n",
              "\n",
              "    .dataframe tbody tr th {\n",
              "        vertical-align: top;\n",
              "    }\n",
              "\n",
              "    .dataframe thead th {\n",
              "        text-align: right;\n",
              "    }\n",
              "</style>\n",
              "<table border=\"1\" class=\"dataframe\">\n",
              "  <thead>\n",
              "    <tr style=\"text-align: right;\">\n",
              "      <th></th>\n",
              "      <th>PCka_0</th>\n",
              "      <th>PCka_1</th>\n",
              "      <th>PCka_2</th>\n",
              "      <th>PCka_3</th>\n",
              "      <th>PCka_4</th>\n",
              "      <th>PCka_5</th>\n",
              "      <th>PCka_6</th>\n",
              "      <th>PCka_7</th>\n",
              "      <th>PCka_8</th>\n",
              "      <th>PCka_9</th>\n",
              "      <th>PCka_10</th>\n",
              "      <th>PCka_11</th>\n",
              "      <th>PCka_12</th>\n",
              "      <th>PCka_13</th>\n",
              "      <th>PCka_14</th>\n",
              "      <th>PCka_15</th>\n",
              "      <th>PCka_16</th>\n",
              "      <th>PCka_17</th>\n",
              "      <th>PCka_18</th>\n",
              "      <th>PCka_19</th>\n",
              "      <th>PCka_20</th>\n",
              "      <th>PCka_21</th>\n",
              "      <th>PCka_22</th>\n",
              "      <th>PCka_23</th>\n",
              "      <th>PCka_24</th>\n",
              "      <th>PCka_25</th>\n",
              "      <th>PCka_26</th>\n",
              "      <th>PCka_27</th>\n",
              "      <th>PCka_28</th>\n",
              "      <th>PCka_29</th>\n",
              "      <th>PCka_30</th>\n",
              "      <th>PCka_31</th>\n",
              "      <th>PCka_32</th>\n",
              "      <th>PCka_33</th>\n",
              "      <th>PCka_34</th>\n",
              "      <th>PCka_35</th>\n",
              "      <th>PCka_36</th>\n",
              "      <th>PCka_37</th>\n",
              "      <th>PCka_38</th>\n",
              "      <th>PCka_39</th>\n",
              "      <th>PCka_40</th>\n",
              "      <th>PCka_41</th>\n",
              "      <th>PCka_42</th>\n",
              "      <th>PCka_43</th>\n",
              "      <th>PCka_44</th>\n",
              "      <th>PCka_45</th>\n",
              "      <th>PCka_46</th>\n",
              "      <th>PCka_47</th>\n",
              "      <th>PCka_48</th>\n",
              "      <th>PCka_49</th>\n",
              "    </tr>\n",
              "  </thead>\n",
              "  <tbody>\n",
              "    <tr>\n",
              "      <th>0</th>\n",
              "      <td>0.650578</td>\n",
              "      <td>-0.795976</td>\n",
              "      <td>1.355702</td>\n",
              "      <td>-1.148324</td>\n",
              "      <td>1.371941</td>\n",
              "      <td>0.203682</td>\n",
              "      <td>-0.018499</td>\n",
              "      <td>-0.069188</td>\n",
              "      <td>0.528946</td>\n",
              "      <td>0.185767</td>\n",
              "      <td>-1.385458</td>\n",
              "      <td>0.189302</td>\n",
              "      <td>2.468119</td>\n",
              "      <td>0.187700</td>\n",
              "      <td>0.317832</td>\n",
              "      <td>0.101076</td>\n",
              "      <td>-1.011532</td>\n",
              "      <td>0.068169</td>\n",
              "      <td>-2.067912</td>\n",
              "      <td>-0.019927</td>\n",
              "      <td>-0.063128</td>\n",
              "      <td>-1.902652</td>\n",
              "      <td>-0.389249</td>\n",
              "      <td>1.502736</td>\n",
              "      <td>-1.404719</td>\n",
              "      <td>0.234652</td>\n",
              "      <td>0.167907</td>\n",
              "      <td>1.789675</td>\n",
              "      <td>-0.290897</td>\n",
              "      <td>-1.644602</td>\n",
              "      <td>-0.286911</td>\n",
              "      <td>1.206471</td>\n",
              "      <td>0.751010</td>\n",
              "      <td>-0.890230</td>\n",
              "      <td>-0.058853</td>\n",
              "      <td>-0.568088</td>\n",
              "      <td>0.788965</td>\n",
              "      <td>-0.238319</td>\n",
              "      <td>-0.415394</td>\n",
              "      <td>0.127160</td>\n",
              "      <td>1.074393</td>\n",
              "      <td>-0.513775</td>\n",
              "      <td>0.309894</td>\n",
              "      <td>0.426304</td>\n",
              "      <td>-1.033582</td>\n",
              "      <td>1.139901</td>\n",
              "      <td>0.082254</td>\n",
              "      <td>0.375837</td>\n",
              "      <td>0.054060</td>\n",
              "      <td>-0.721037</td>\n",
              "    </tr>\n",
              "    <tr>\n",
              "      <th>1</th>\n",
              "      <td>2.011860</td>\n",
              "      <td>-0.264211</td>\n",
              "      <td>0.312986</td>\n",
              "      <td>-2.108408</td>\n",
              "      <td>3.106223</td>\n",
              "      <td>1.442624</td>\n",
              "      <td>0.215272</td>\n",
              "      <td>-0.548686</td>\n",
              "      <td>0.448643</td>\n",
              "      <td>-0.902511</td>\n",
              "      <td>1.194850</td>\n",
              "      <td>-0.971916</td>\n",
              "      <td>1.256145</td>\n",
              "      <td>-2.036581</td>\n",
              "      <td>0.289485</td>\n",
              "      <td>-0.998713</td>\n",
              "      <td>-0.316947</td>\n",
              "      <td>1.258796</td>\n",
              "      <td>-0.613794</td>\n",
              "      <td>-0.317056</td>\n",
              "      <td>0.635919</td>\n",
              "      <td>0.149689</td>\n",
              "      <td>-0.233615</td>\n",
              "      <td>-0.402239</td>\n",
              "      <td>-0.555617</td>\n",
              "      <td>-1.126972</td>\n",
              "      <td>-0.329596</td>\n",
              "      <td>-0.284630</td>\n",
              "      <td>-0.362806</td>\n",
              "      <td>-2.090008</td>\n",
              "      <td>0.700615</td>\n",
              "      <td>-0.232695</td>\n",
              "      <td>1.626965</td>\n",
              "      <td>-0.737401</td>\n",
              "      <td>1.985898</td>\n",
              "      <td>-1.497122</td>\n",
              "      <td>-0.010007</td>\n",
              "      <td>-0.718658</td>\n",
              "      <td>-0.247490</td>\n",
              "      <td>1.515823</td>\n",
              "      <td>-1.098710</td>\n",
              "      <td>0.548104</td>\n",
              "      <td>-0.179104</td>\n",
              "      <td>-0.871359</td>\n",
              "      <td>-0.716809</td>\n",
              "      <td>0.198526</td>\n",
              "      <td>0.084508</td>\n",
              "      <td>-0.558502</td>\n",
              "      <td>0.499095</td>\n",
              "      <td>-0.507812</td>\n",
              "    </tr>\n",
              "    <tr>\n",
              "      <th>2</th>\n",
              "      <td>-1.913898</td>\n",
              "      <td>-1.294954</td>\n",
              "      <td>0.164031</td>\n",
              "      <td>-2.476610</td>\n",
              "      <td>1.383621</td>\n",
              "      <td>-1.143549</td>\n",
              "      <td>1.897732</td>\n",
              "      <td>-0.522519</td>\n",
              "      <td>-0.486607</td>\n",
              "      <td>0.557894</td>\n",
              "      <td>1.272380</td>\n",
              "      <td>-0.570252</td>\n",
              "      <td>1.311135</td>\n",
              "      <td>-0.048057</td>\n",
              "      <td>0.313940</td>\n",
              "      <td>-1.787998</td>\n",
              "      <td>1.163500</td>\n",
              "      <td>0.595703</td>\n",
              "      <td>-1.562588</td>\n",
              "      <td>-0.532938</td>\n",
              "      <td>-2.267048</td>\n",
              "      <td>-0.327405</td>\n",
              "      <td>-0.086089</td>\n",
              "      <td>0.472411</td>\n",
              "      <td>-0.008788</td>\n",
              "      <td>0.046675</td>\n",
              "      <td>0.925344</td>\n",
              "      <td>0.147518</td>\n",
              "      <td>-0.413373</td>\n",
              "      <td>1.276624</td>\n",
              "      <td>0.243308</td>\n",
              "      <td>0.487038</td>\n",
              "      <td>2.543369</td>\n",
              "      <td>0.940658</td>\n",
              "      <td>1.222244</td>\n",
              "      <td>0.200136</td>\n",
              "      <td>1.242933</td>\n",
              "      <td>0.892071</td>\n",
              "      <td>0.956111</td>\n",
              "      <td>-0.275034</td>\n",
              "      <td>0.402737</td>\n",
              "      <td>-1.041778</td>\n",
              "      <td>1.425730</td>\n",
              "      <td>-0.079760</td>\n",
              "      <td>-0.594252</td>\n",
              "      <td>1.142472</td>\n",
              "      <td>0.614559</td>\n",
              "      <td>-0.144531</td>\n",
              "      <td>-0.346498</td>\n",
              "      <td>0.525207</td>\n",
              "    </tr>\n",
              "    <tr>\n",
              "      <th>3</th>\n",
              "      <td>-0.164340</td>\n",
              "      <td>-2.210302</td>\n",
              "      <td>2.046110</td>\n",
              "      <td>-1.221456</td>\n",
              "      <td>0.196467</td>\n",
              "      <td>-1.439472</td>\n",
              "      <td>0.291917</td>\n",
              "      <td>-2.096124</td>\n",
              "      <td>0.774848</td>\n",
              "      <td>0.023451</td>\n",
              "      <td>1.500989</td>\n",
              "      <td>0.274710</td>\n",
              "      <td>2.521553</td>\n",
              "      <td>-1.421067</td>\n",
              "      <td>1.616387</td>\n",
              "      <td>0.224765</td>\n",
              "      <td>-1.137617</td>\n",
              "      <td>-0.509433</td>\n",
              "      <td>0.274330</td>\n",
              "      <td>0.527142</td>\n",
              "      <td>0.329889</td>\n",
              "      <td>0.516468</td>\n",
              "      <td>-0.585138</td>\n",
              "      <td>-0.345468</td>\n",
              "      <td>0.969603</td>\n",
              "      <td>0.321112</td>\n",
              "      <td>-0.830600</td>\n",
              "      <td>-0.258766</td>\n",
              "      <td>-0.020795</td>\n",
              "      <td>-0.304335</td>\n",
              "      <td>-0.359593</td>\n",
              "      <td>-1.121626</td>\n",
              "      <td>-0.412123</td>\n",
              "      <td>1.031777</td>\n",
              "      <td>-0.122756</td>\n",
              "      <td>-0.660867</td>\n",
              "      <td>-0.338121</td>\n",
              "      <td>-0.585898</td>\n",
              "      <td>-0.824677</td>\n",
              "      <td>-0.354059</td>\n",
              "      <td>0.869880</td>\n",
              "      <td>-0.500082</td>\n",
              "      <td>-0.934279</td>\n",
              "      <td>-0.096426</td>\n",
              "      <td>-0.028245</td>\n",
              "      <td>-0.354636</td>\n",
              "      <td>0.483471</td>\n",
              "      <td>-0.487344</td>\n",
              "      <td>0.312422</td>\n",
              "      <td>0.764391</td>\n",
              "    </tr>\n",
              "    <tr>\n",
              "      <th>4</th>\n",
              "      <td>4.020279</td>\n",
              "      <td>-0.435998</td>\n",
              "      <td>0.710938</td>\n",
              "      <td>-1.252845</td>\n",
              "      <td>1.838018</td>\n",
              "      <td>2.326837</td>\n",
              "      <td>0.280597</td>\n",
              "      <td>0.100776</td>\n",
              "      <td>0.892134</td>\n",
              "      <td>1.258023</td>\n",
              "      <td>-0.663132</td>\n",
              "      <td>0.189159</td>\n",
              "      <td>2.280524</td>\n",
              "      <td>-1.924808</td>\n",
              "      <td>-1.227840</td>\n",
              "      <td>-0.156074</td>\n",
              "      <td>0.716872</td>\n",
              "      <td>-1.013787</td>\n",
              "      <td>-0.678422</td>\n",
              "      <td>0.721722</td>\n",
              "      <td>0.773431</td>\n",
              "      <td>-0.625703</td>\n",
              "      <td>0.610868</td>\n",
              "      <td>-0.253702</td>\n",
              "      <td>-0.114861</td>\n",
              "      <td>0.349109</td>\n",
              "      <td>0.519700</td>\n",
              "      <td>0.560661</td>\n",
              "      <td>0.754077</td>\n",
              "      <td>-0.599449</td>\n",
              "      <td>1.088947</td>\n",
              "      <td>-1.791614</td>\n",
              "      <td>1.668133</td>\n",
              "      <td>0.063596</td>\n",
              "      <td>0.960696</td>\n",
              "      <td>0.225138</td>\n",
              "      <td>0.460004</td>\n",
              "      <td>-0.636510</td>\n",
              "      <td>0.223795</td>\n",
              "      <td>0.249038</td>\n",
              "      <td>-0.183356</td>\n",
              "      <td>0.042727</td>\n",
              "      <td>0.731841</td>\n",
              "      <td>-1.062945</td>\n",
              "      <td>0.377345</td>\n",
              "      <td>-1.372990</td>\n",
              "      <td>0.969137</td>\n",
              "      <td>-0.690270</td>\n",
              "      <td>1.049843</td>\n",
              "      <td>0.217507</td>\n",
              "    </tr>\n",
              "    <tr>\n",
              "      <th>...</th>\n",
              "      <td>...</td>\n",
              "      <td>...</td>\n",
              "      <td>...</td>\n",
              "      <td>...</td>\n",
              "      <td>...</td>\n",
              "      <td>...</td>\n",
              "      <td>...</td>\n",
              "      <td>...</td>\n",
              "      <td>...</td>\n",
              "      <td>...</td>\n",
              "      <td>...</td>\n",
              "      <td>...</td>\n",
              "      <td>...</td>\n",
              "      <td>...</td>\n",
              "      <td>...</td>\n",
              "      <td>...</td>\n",
              "      <td>...</td>\n",
              "      <td>...</td>\n",
              "      <td>...</td>\n",
              "      <td>...</td>\n",
              "      <td>...</td>\n",
              "      <td>...</td>\n",
              "      <td>...</td>\n",
              "      <td>...</td>\n",
              "      <td>...</td>\n",
              "      <td>...</td>\n",
              "      <td>...</td>\n",
              "      <td>...</td>\n",
              "      <td>...</td>\n",
              "      <td>...</td>\n",
              "      <td>...</td>\n",
              "      <td>...</td>\n",
              "      <td>...</td>\n",
              "      <td>...</td>\n",
              "      <td>...</td>\n",
              "      <td>...</td>\n",
              "      <td>...</td>\n",
              "      <td>...</td>\n",
              "      <td>...</td>\n",
              "      <td>...</td>\n",
              "      <td>...</td>\n",
              "      <td>...</td>\n",
              "      <td>...</td>\n",
              "      <td>...</td>\n",
              "      <td>...</td>\n",
              "      <td>...</td>\n",
              "      <td>...</td>\n",
              "      <td>...</td>\n",
              "      <td>...</td>\n",
              "      <td>...</td>\n",
              "    </tr>\n",
              "    <tr>\n",
              "      <th>1995</th>\n",
              "      <td>-2.913113</td>\n",
              "      <td>1.463578</td>\n",
              "      <td>-0.763174</td>\n",
              "      <td>-1.459326</td>\n",
              "      <td>0.657108</td>\n",
              "      <td>-0.227564</td>\n",
              "      <td>0.543579</td>\n",
              "      <td>-0.240400</td>\n",
              "      <td>0.856187</td>\n",
              "      <td>0.730801</td>\n",
              "      <td>-1.964973</td>\n",
              "      <td>3.179481</td>\n",
              "      <td>0.139607</td>\n",
              "      <td>0.661010</td>\n",
              "      <td>0.067320</td>\n",
              "      <td>1.428403</td>\n",
              "      <td>1.126724</td>\n",
              "      <td>-0.983827</td>\n",
              "      <td>-0.732845</td>\n",
              "      <td>1.427056</td>\n",
              "      <td>0.649644</td>\n",
              "      <td>1.835910</td>\n",
              "      <td>-0.065239</td>\n",
              "      <td>-0.049507</td>\n",
              "      <td>-0.356842</td>\n",
              "      <td>0.453656</td>\n",
              "      <td>0.802967</td>\n",
              "      <td>1.127878</td>\n",
              "      <td>0.685156</td>\n",
              "      <td>0.620355</td>\n",
              "      <td>0.879508</td>\n",
              "      <td>-0.222432</td>\n",
              "      <td>-0.137184</td>\n",
              "      <td>0.921904</td>\n",
              "      <td>-0.777544</td>\n",
              "      <td>0.123622</td>\n",
              "      <td>-0.081116</td>\n",
              "      <td>-0.416285</td>\n",
              "      <td>0.008962</td>\n",
              "      <td>-0.519595</td>\n",
              "      <td>-0.107030</td>\n",
              "      <td>-0.002853</td>\n",
              "      <td>0.913829</td>\n",
              "      <td>-0.065706</td>\n",
              "      <td>1.099072</td>\n",
              "      <td>0.174418</td>\n",
              "      <td>-0.546921</td>\n",
              "      <td>-0.742471</td>\n",
              "      <td>0.052742</td>\n",
              "      <td>0.424439</td>\n",
              "    </tr>\n",
              "    <tr>\n",
              "      <th>1996</th>\n",
              "      <td>-0.592313</td>\n",
              "      <td>0.252305</td>\n",
              "      <td>1.179378</td>\n",
              "      <td>0.098490</td>\n",
              "      <td>1.584217</td>\n",
              "      <td>1.366774</td>\n",
              "      <td>0.172419</td>\n",
              "      <td>-1.551906</td>\n",
              "      <td>0.691512</td>\n",
              "      <td>-0.898829</td>\n",
              "      <td>-0.917620</td>\n",
              "      <td>-0.646561</td>\n",
              "      <td>0.345609</td>\n",
              "      <td>-1.128672</td>\n",
              "      <td>-0.905272</td>\n",
              "      <td>-1.601164</td>\n",
              "      <td>-2.999737</td>\n",
              "      <td>1.550145</td>\n",
              "      <td>1.921973</td>\n",
              "      <td>0.544318</td>\n",
              "      <td>-0.693830</td>\n",
              "      <td>2.018581</td>\n",
              "      <td>-0.309428</td>\n",
              "      <td>-0.641549</td>\n",
              "      <td>-0.257980</td>\n",
              "      <td>-0.668712</td>\n",
              "      <td>0.532469</td>\n",
              "      <td>-0.003115</td>\n",
              "      <td>1.349825</td>\n",
              "      <td>-2.135035</td>\n",
              "      <td>1.362879</td>\n",
              "      <td>-1.157935</td>\n",
              "      <td>-0.193205</td>\n",
              "      <td>-0.109326</td>\n",
              "      <td>-0.652979</td>\n",
              "      <td>-0.629022</td>\n",
              "      <td>0.378451</td>\n",
              "      <td>0.379943</td>\n",
              "      <td>-0.489783</td>\n",
              "      <td>0.074530</td>\n",
              "      <td>0.537132</td>\n",
              "      <td>-0.055533</td>\n",
              "      <td>-1.578209</td>\n",
              "      <td>0.646479</td>\n",
              "      <td>-0.228972</td>\n",
              "      <td>-0.285676</td>\n",
              "      <td>0.409985</td>\n",
              "      <td>0.526575</td>\n",
              "      <td>-1.537499</td>\n",
              "      <td>0.039462</td>\n",
              "    </tr>\n",
              "    <tr>\n",
              "      <th>1997</th>\n",
              "      <td>-3.892526</td>\n",
              "      <td>1.034676</td>\n",
              "      <td>0.432322</td>\n",
              "      <td>-2.067456</td>\n",
              "      <td>2.401797</td>\n",
              "      <td>0.520463</td>\n",
              "      <td>-1.780004</td>\n",
              "      <td>-0.406073</td>\n",
              "      <td>0.512015</td>\n",
              "      <td>1.677129</td>\n",
              "      <td>0.401742</td>\n",
              "      <td>0.897252</td>\n",
              "      <td>1.604879</td>\n",
              "      <td>0.834323</td>\n",
              "      <td>2.319939</td>\n",
              "      <td>-2.488564</td>\n",
              "      <td>0.533496</td>\n",
              "      <td>0.635906</td>\n",
              "      <td>0.045244</td>\n",
              "      <td>1.121664</td>\n",
              "      <td>-0.556707</td>\n",
              "      <td>-0.513959</td>\n",
              "      <td>-0.597040</td>\n",
              "      <td>0.341603</td>\n",
              "      <td>0.099582</td>\n",
              "      <td>-0.811040</td>\n",
              "      <td>1.095218</td>\n",
              "      <td>0.295369</td>\n",
              "      <td>-0.621178</td>\n",
              "      <td>0.814531</td>\n",
              "      <td>-0.413504</td>\n",
              "      <td>-1.383307</td>\n",
              "      <td>-0.784854</td>\n",
              "      <td>1.729137</td>\n",
              "      <td>0.004282</td>\n",
              "      <td>0.859826</td>\n",
              "      <td>-0.866650</td>\n",
              "      <td>-1.824140</td>\n",
              "      <td>-0.737891</td>\n",
              "      <td>-0.334321</td>\n",
              "      <td>-1.113488</td>\n",
              "      <td>0.746584</td>\n",
              "      <td>0.065938</td>\n",
              "      <td>-0.021384</td>\n",
              "      <td>-0.386664</td>\n",
              "      <td>0.752847</td>\n",
              "      <td>0.410535</td>\n",
              "      <td>-0.939352</td>\n",
              "      <td>0.015282</td>\n",
              "      <td>-0.147836</td>\n",
              "    </tr>\n",
              "    <tr>\n",
              "      <th>1998</th>\n",
              "      <td>-1.080271</td>\n",
              "      <td>0.154276</td>\n",
              "      <td>0.337089</td>\n",
              "      <td>-1.412053</td>\n",
              "      <td>2.212067</td>\n",
              "      <td>0.727018</td>\n",
              "      <td>0.263012</td>\n",
              "      <td>-0.842364</td>\n",
              "      <td>1.598514</td>\n",
              "      <td>0.641475</td>\n",
              "      <td>-0.054869</td>\n",
              "      <td>0.780765</td>\n",
              "      <td>0.480855</td>\n",
              "      <td>1.434096</td>\n",
              "      <td>1.565254</td>\n",
              "      <td>-0.549985</td>\n",
              "      <td>1.311047</td>\n",
              "      <td>-0.064136</td>\n",
              "      <td>0.338893</td>\n",
              "      <td>-0.665267</td>\n",
              "      <td>0.932433</td>\n",
              "      <td>0.280777</td>\n",
              "      <td>0.104862</td>\n",
              "      <td>-0.762929</td>\n",
              "      <td>-0.855621</td>\n",
              "      <td>0.092430</td>\n",
              "      <td>1.049251</td>\n",
              "      <td>0.037543</td>\n",
              "      <td>0.630807</td>\n",
              "      <td>0.068616</td>\n",
              "      <td>-0.092226</td>\n",
              "      <td>-1.240949</td>\n",
              "      <td>0.207185</td>\n",
              "      <td>-1.653662</td>\n",
              "      <td>0.582403</td>\n",
              "      <td>-0.694787</td>\n",
              "      <td>-0.166002</td>\n",
              "      <td>-0.274031</td>\n",
              "      <td>0.705387</td>\n",
              "      <td>-1.175401</td>\n",
              "      <td>0.944213</td>\n",
              "      <td>0.512180</td>\n",
              "      <td>0.824669</td>\n",
              "      <td>-0.433649</td>\n",
              "      <td>0.040330</td>\n",
              "      <td>-0.262851</td>\n",
              "      <td>0.699634</td>\n",
              "      <td>-0.442892</td>\n",
              "      <td>0.360018</td>\n",
              "      <td>-0.008423</td>\n",
              "    </tr>\n",
              "    <tr>\n",
              "      <th>1999</th>\n",
              "      <td>-2.219803</td>\n",
              "      <td>-0.390761</td>\n",
              "      <td>-0.330173</td>\n",
              "      <td>0.648493</td>\n",
              "      <td>1.712544</td>\n",
              "      <td>-0.433737</td>\n",
              "      <td>-1.202496</td>\n",
              "      <td>-0.388279</td>\n",
              "      <td>1.028941</td>\n",
              "      <td>-1.732641</td>\n",
              "      <td>-1.013016</td>\n",
              "      <td>0.278354</td>\n",
              "      <td>-1.481787</td>\n",
              "      <td>1.029229</td>\n",
              "      <td>-1.980882</td>\n",
              "      <td>0.574397</td>\n",
              "      <td>-1.119003</td>\n",
              "      <td>0.310304</td>\n",
              "      <td>-0.118840</td>\n",
              "      <td>0.733656</td>\n",
              "      <td>-1.025492</td>\n",
              "      <td>0.340198</td>\n",
              "      <td>-0.381971</td>\n",
              "      <td>-1.635943</td>\n",
              "      <td>1.227721</td>\n",
              "      <td>0.644726</td>\n",
              "      <td>-0.219237</td>\n",
              "      <td>1.253439</td>\n",
              "      <td>0.218178</td>\n",
              "      <td>-0.461627</td>\n",
              "      <td>0.010433</td>\n",
              "      <td>0.416846</td>\n",
              "      <td>0.019086</td>\n",
              "      <td>0.794761</td>\n",
              "      <td>0.204669</td>\n",
              "      <td>-1.650352</td>\n",
              "      <td>-0.478110</td>\n",
              "      <td>1.315470</td>\n",
              "      <td>-0.030582</td>\n",
              "      <td>0.652175</td>\n",
              "      <td>0.497262</td>\n",
              "      <td>0.725786</td>\n",
              "      <td>-0.495600</td>\n",
              "      <td>-0.200556</td>\n",
              "      <td>-0.264594</td>\n",
              "      <td>-2.192458</td>\n",
              "      <td>-0.360511</td>\n",
              "      <td>-0.090758</td>\n",
              "      <td>0.388149</td>\n",
              "      <td>0.617451</td>\n",
              "    </tr>\n",
              "  </tbody>\n",
              "</table>\n",
              "<p>2000 rows × 50 columns</p>\n",
              "</div>"
            ],
            "text/plain": [
              "        PCka_0    PCka_1    PCka_2  ...   PCka_47   PCka_48   PCka_49\n",
              "0     0.650578 -0.795976  1.355702  ...  0.375837  0.054060 -0.721037\n",
              "1     2.011860 -0.264211  0.312986  ... -0.558502  0.499095 -0.507812\n",
              "2    -1.913898 -1.294954  0.164031  ... -0.144531 -0.346498  0.525207\n",
              "3    -0.164340 -2.210302  2.046110  ... -0.487344  0.312422  0.764391\n",
              "4     4.020279 -0.435998  0.710938  ... -0.690270  1.049843  0.217507\n",
              "...        ...       ...       ...  ...       ...       ...       ...\n",
              "1995 -2.913113  1.463578 -0.763174  ... -0.742471  0.052742  0.424439\n",
              "1996 -0.592313  0.252305  1.179378  ...  0.526575 -1.537499  0.039462\n",
              "1997 -3.892526  1.034676  0.432322  ... -0.939352  0.015282 -0.147836\n",
              "1998 -1.080271  0.154276  0.337089  ... -0.442892  0.360018 -0.008423\n",
              "1999 -2.219803 -0.390761 -0.330173  ... -0.090758  0.388149  0.617451\n",
              "\n",
              "[2000 rows x 50 columns]"
            ]
          },
          "metadata": {
            "tags": []
          },
          "execution_count": 43
        }
      ]
    },
    {
      "cell_type": "code",
      "metadata": {
        "id": "pv1h7eP4t1Pg"
      },
      "source": [
        "Lab= pd.DataFrame(scaled_result, columns=result.columns)"
      ],
      "execution_count": null,
      "outputs": []
    },
    {
      "cell_type": "code",
      "metadata": {
        "id": "3IbfTPIrvslA"
      },
      "source": [
        "LAB=np.transpose([true_label, label_new1,label_new2])\n",
        "LAB1=pd.DataFrame(LAB,columns=['true_label','label_new1','label_new2'])"
      ],
      "execution_count": null,
      "outputs": []
    },
    {
      "cell_type": "code",
      "metadata": {
        "colab": {
          "base_uri": "https://localhost:8080/"
        },
        "id": "sfJ_nPYUyG3s",
        "outputId": "97fe329e-218a-442a-857f-c2b82a21cc14"
      },
      "source": [
        "from sklearn.metrics.cluster import adjusted_rand_score\n",
        "print('the accurancy is:',adjusted_rand_score(true_label, labels2))"
      ],
      "execution_count": null,
      "outputs": [
        {
          "output_type": "stream",
          "text": [
            "the accurancy is: 0.8451932091753689\n"
          ],
          "name": "stdout"
        }
      ]
    },
    {
      "cell_type": "code",
      "metadata": {
        "colab": {
          "base_uri": "https://localhost:8080/",
          "height": 669
        },
        "id": "zMDC0LGzxCu6",
        "outputId": "39350adc-da2b-4db0-f9e7-1d64f74783ca"
      },
      "source": [
        "LAB1.sample(20)"
      ],
      "execution_count": null,
      "outputs": [
        {
          "output_type": "execute_result",
          "data": {
            "text/html": [
              "<div>\n",
              "<style scoped>\n",
              "    .dataframe tbody tr th:only-of-type {\n",
              "        vertical-align: middle;\n",
              "    }\n",
              "\n",
              "    .dataframe tbody tr th {\n",
              "        vertical-align: top;\n",
              "    }\n",
              "\n",
              "    .dataframe thead th {\n",
              "        text-align: right;\n",
              "    }\n",
              "</style>\n",
              "<table border=\"1\" class=\"dataframe\">\n",
              "  <thead>\n",
              "    <tr style=\"text-align: right;\">\n",
              "      <th></th>\n",
              "      <th>true_label</th>\n",
              "      <th>label_new1</th>\n",
              "      <th>label_new2</th>\n",
              "    </tr>\n",
              "  </thead>\n",
              "  <tbody>\n",
              "    <tr>\n",
              "      <th>338</th>\n",
              "      <td>1</td>\n",
              "      <td>1</td>\n",
              "      <td>1</td>\n",
              "    </tr>\n",
              "    <tr>\n",
              "      <th>391</th>\n",
              "      <td>1</td>\n",
              "      <td>1</td>\n",
              "      <td>1</td>\n",
              "    </tr>\n",
              "    <tr>\n",
              "      <th>4</th>\n",
              "      <td>0</td>\n",
              "      <td>0</td>\n",
              "      <td>0</td>\n",
              "    </tr>\n",
              "    <tr>\n",
              "      <th>515</th>\n",
              "      <td>2</td>\n",
              "      <td>2</td>\n",
              "      <td>2</td>\n",
              "    </tr>\n",
              "    <tr>\n",
              "      <th>127</th>\n",
              "      <td>0</td>\n",
              "      <td>0</td>\n",
              "      <td>0</td>\n",
              "    </tr>\n",
              "    <tr>\n",
              "      <th>1213</th>\n",
              "      <td>6</td>\n",
              "      <td>8</td>\n",
              "      <td>0</td>\n",
              "    </tr>\n",
              "    <tr>\n",
              "      <th>1273</th>\n",
              "      <td>6</td>\n",
              "      <td>6</td>\n",
              "      <td>6</td>\n",
              "    </tr>\n",
              "    <tr>\n",
              "      <th>1036</th>\n",
              "      <td>5</td>\n",
              "      <td>5</td>\n",
              "      <td>5</td>\n",
              "    </tr>\n",
              "    <tr>\n",
              "      <th>39</th>\n",
              "      <td>0</td>\n",
              "      <td>0</td>\n",
              "      <td>0</td>\n",
              "    </tr>\n",
              "    <tr>\n",
              "      <th>958</th>\n",
              "      <td>4</td>\n",
              "      <td>6</td>\n",
              "      <td>4</td>\n",
              "    </tr>\n",
              "    <tr>\n",
              "      <th>1247</th>\n",
              "      <td>6</td>\n",
              "      <td>6</td>\n",
              "      <td>6</td>\n",
              "    </tr>\n",
              "    <tr>\n",
              "      <th>320</th>\n",
              "      <td>1</td>\n",
              "      <td>1</td>\n",
              "      <td>1</td>\n",
              "    </tr>\n",
              "    <tr>\n",
              "      <th>750</th>\n",
              "      <td>3</td>\n",
              "      <td>3</td>\n",
              "      <td>3</td>\n",
              "    </tr>\n",
              "    <tr>\n",
              "      <th>1479</th>\n",
              "      <td>7</td>\n",
              "      <td>7</td>\n",
              "      <td>7</td>\n",
              "    </tr>\n",
              "    <tr>\n",
              "      <th>1721</th>\n",
              "      <td>8</td>\n",
              "      <td>8</td>\n",
              "      <td>8</td>\n",
              "    </tr>\n",
              "    <tr>\n",
              "      <th>1701</th>\n",
              "      <td>8</td>\n",
              "      <td>8</td>\n",
              "      <td>8</td>\n",
              "    </tr>\n",
              "    <tr>\n",
              "      <th>868</th>\n",
              "      <td>4</td>\n",
              "      <td>4</td>\n",
              "      <td>4</td>\n",
              "    </tr>\n",
              "    <tr>\n",
              "      <th>267</th>\n",
              "      <td>1</td>\n",
              "      <td>1</td>\n",
              "      <td>1</td>\n",
              "    </tr>\n",
              "    <tr>\n",
              "      <th>326</th>\n",
              "      <td>1</td>\n",
              "      <td>1</td>\n",
              "      <td>1</td>\n",
              "    </tr>\n",
              "    <tr>\n",
              "      <th>740</th>\n",
              "      <td>3</td>\n",
              "      <td>3</td>\n",
              "      <td>3</td>\n",
              "    </tr>\n",
              "  </tbody>\n",
              "</table>\n",
              "</div>"
            ],
            "text/plain": [
              "      true_label  label_new1  label_new2\n",
              "338            1           1           1\n",
              "391            1           1           1\n",
              "4              0           0           0\n",
              "515            2           2           2\n",
              "127            0           0           0\n",
              "1213           6           8           0\n",
              "1273           6           6           6\n",
              "1036           5           5           5\n",
              "39             0           0           0\n",
              "958            4           6           4\n",
              "1247           6           6           6\n",
              "320            1           1           1\n",
              "750            3           3           3\n",
              "1479           7           7           7\n",
              "1721           8           8           8\n",
              "1701           8           8           8\n",
              "868            4           4           4\n",
              "267            1           1           1\n",
              "326            1           1           1\n",
              "740            3           3           3"
            ]
          },
          "metadata": {
            "tags": []
          },
          "execution_count": 57
        }
      ]
    }
  ]
}